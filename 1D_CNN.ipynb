{
 "cells": [
  {
   "cell_type": "markdown",
   "metadata": {
    "colab_type": "text",
    "id": "hArovgBatl2e"
   },
   "source": [
    "# Getting the Envirnment Setup"
   ]
  },
  {
   "cell_type": "code",
   "execution_count": 1,
   "metadata": {
    "colab": {
     "base_uri": "https://localhost:8080/",
     "height": 629
    },
    "colab_type": "code",
    "id": "ennYiqb5nHOk",
    "outputId": "fbaa0f87-dcbf-4b97-8287-9b10ee2e246a"
   },
   "outputs": [
    {
     "name": "stdout",
     "output_type": "stream",
     "text": [
      "Requirement already satisfied: tensorflow-gpu==1.14 in c:\\users\\steph\\anaconda3\\lib\\site-packages (1.14.0)\n",
      "Requirement already satisfied: wheel>=0.26 in c:\\users\\steph\\anaconda3\\lib\\site-packages (from tensorflow-gpu==1.14) (0.33.6)\n",
      "Requirement already satisfied: tensorboard<1.15.0,>=1.14.0 in c:\\users\\steph\\anaconda3\\lib\\site-packages (from tensorflow-gpu==1.14) (1.14.0)\n",
      "Requirement already satisfied: keras-preprocessing>=1.0.5 in c:\\users\\steph\\anaconda3\\lib\\site-packages (from tensorflow-gpu==1.14) (1.1.2)\n",
      "Requirement already satisfied: absl-py>=0.7.0 in c:\\users\\steph\\anaconda3\\lib\\site-packages (from tensorflow-gpu==1.14) (0.9.0)\n",
      "Requirement already satisfied: keras-applications>=1.0.6 in c:\\users\\steph\\anaconda3\\lib\\site-packages (from tensorflow-gpu==1.14) (1.0.8)\n",
      "Requirement already satisfied: astor>=0.6.0 in c:\\users\\steph\\anaconda3\\lib\\site-packages (from tensorflow-gpu==1.14) (0.8.1)\n",
      "Requirement already satisfied: google-pasta>=0.1.6 in c:\\users\\steph\\anaconda3\\lib\\site-packages (from tensorflow-gpu==1.14) (0.2.0)\n",
      "Requirement already satisfied: tensorflow-estimator<1.15.0rc0,>=1.14.0rc0 in c:\\users\\steph\\anaconda3\\lib\\site-packages (from tensorflow-gpu==1.14) (1.14.0)\n",
      "Requirement already satisfied: termcolor>=1.1.0 in c:\\users\\steph\\anaconda3\\lib\\site-packages (from tensorflow-gpu==1.14) (1.1.0)\n",
      "Requirement already satisfied: wrapt>=1.11.1 in c:\\users\\steph\\appdata\\roaming\\python\\python37\\site-packages (from tensorflow-gpu==1.14) (1.12.1)\n",
      "Requirement already satisfied: gast>=0.2.0 in c:\\users\\steph\\anaconda3\\lib\\site-packages (from tensorflow-gpu==1.14) (0.3.3)\n",
      "Requirement already satisfied: grpcio>=1.8.6 in c:\\users\\steph\\anaconda3\\lib\\site-packages (from tensorflow-gpu==1.14) (1.29.0)\n",
      "Requirement already satisfied: six>=1.10.0 in c:\\users\\steph\\anaconda3\\lib\\site-packages (from tensorflow-gpu==1.14) (1.12.0)\n",
      "Requirement already satisfied: protobuf>=3.6.1 in c:\\users\\steph\\anaconda3\\lib\\site-packages (from tensorflow-gpu==1.14) (3.12.1)\n",
      "Requirement already satisfied: numpy<2.0,>=1.14.5 in c:\\users\\steph\\anaconda3\\lib\\site-packages (from tensorflow-gpu==1.14) (1.18.4)\n",
      "Requirement already satisfied: markdown>=2.6.8 in c:\\users\\steph\\anaconda3\\lib\\site-packages (from tensorboard<1.15.0,>=1.14.0->tensorflow-gpu==1.14) (3.2.2)\n",
      "Requirement already satisfied: setuptools>=41.0.0 in c:\\users\\steph\\anaconda3\\lib\\site-packages (from tensorboard<1.15.0,>=1.14.0->tensorflow-gpu==1.14) (46.4.0)\n",
      "Requirement already satisfied: werkzeug>=0.11.15 in c:\\users\\steph\\anaconda3\\lib\\site-packages (from tensorboard<1.15.0,>=1.14.0->tensorflow-gpu==1.14) (0.16.0)\n",
      "Requirement already satisfied: h5py in c:\\users\\steph\\appdata\\roaming\\python\\python37\\site-packages (from keras-applications>=1.0.6->tensorflow-gpu==1.14) (2.10.0)\n",
      "Requirement already satisfied: importlib-metadata; python_version < \"3.8\" in c:\\users\\steph\\anaconda3\\lib\\site-packages (from markdown>=2.6.8->tensorboard<1.15.0,>=1.14.0->tensorflow-gpu==1.14) (0.23)\n",
      "Requirement already satisfied: zipp>=0.5 in c:\\users\\steph\\anaconda3\\lib\\site-packages (from importlib-metadata; python_version < \"3.8\"->markdown>=2.6.8->tensorboard<1.15.0,>=1.14.0->tensorflow-gpu==1.14) (0.6.0)\n",
      "Requirement already satisfied: more-itertools in c:\\users\\steph\\anaconda3\\lib\\site-packages (from zipp>=0.5->importlib-metadata; python_version < \"3.8\"->markdown>=2.6.8->tensorboard<1.15.0,>=1.14.0->tensorflow-gpu==1.14) (7.2.0)\n"
     ]
    }
   ],
   "source": [
    "!pip install tensorflow-gpu==1.14"
   ]
  },
  {
   "cell_type": "code",
   "execution_count": 2,
   "metadata": {
    "colab": {
     "base_uri": "https://localhost:8080/",
     "height": 508
    },
    "colab_type": "code",
    "id": "KZEmpGZKnbyd",
    "outputId": "4e5438c1-d8a1-4d00-8e5d-e0a62686a828"
   },
   "outputs": [
    {
     "name": "stderr",
     "output_type": "stream",
     "text": [
      "Using TensorFlow backend.\n"
     ]
    }
   ],
   "source": [
    "# Importing all of the necessary libraries\n",
    "\n",
    "import tensorflow as tf\n",
    "\n",
    "import numpy as np\n",
    "\n",
    "import xml.etree.ElementTree as ET\n",
    "\n",
    "import matplotlib as mpl\n",
    "import matplotlib.pyplot as plt\n",
    "\n",
    "import os\n",
    "\n",
    "import keras\n",
    "from keras import models\n",
    "from keras import layers\n",
    "from keras.layers import LSTM\n",
    "from keras.callbacks import ModelCheckpoint\n",
    "\n",
    "from scipy import fftpack\n",
    "\n",
    "import sklearn.preprocessing\n",
    "from sklearn.utils import shuffle\n",
    "from sklearn.metrics import accuracy_score\n",
    "from sklearn.metrics import precision_score\n",
    "from sklearn.metrics import recall_score\n",
    "from sklearn.metrics import f1_score\n",
    "from sklearn.model_selection import train_test_split\n",
    "from sklearn.metrics import multilabel_confusion_matrix, confusion_matrix\n",
    "\n",
    "from seaborn import heatmap\n"
   ]
  },
  {
   "cell_type": "markdown",
   "metadata": {},
   "source": [
    "# Defining Functions"
   ]
  },
  {
   "cell_type": "code",
   "execution_count": 3,
   "metadata": {},
   "outputs": [],
   "source": [
    "# Functions for statistics to judge the effectiveness of the models\n",
    "\n",
    "def modelRecall(trueResult, predictedResult):\n",
    "    \"Calculates recall (true positives/all positives)\"\n",
    "\n",
    "    truePos = keras.backend.sum(keras.backend.round(keras.backend.clip(trueResult * predictedResult, 0, 1)))\n",
    "    allPositives = keras.backend.sum(keras.backend.round(keras.backend.clip(trueResult, 0, 1)))\n",
    "    return truePos/(allPositives + keras.backend.epsilon())\n",
    "\n",
    "def modelPrecision(trueResult, predictedResult):\n",
    "    \"Calculates precision (true positives/predicted positives)\"\n",
    "\n",
    "    truePos = keras.backend.sum(keras.backend.round(keras.backend.clip(trueResult * predictedResult, 0, 1)))\n",
    "    predPositives = keras.backend.sum(keras.backend.round(keras.backend.clip(predictedResult, 0, 1)))\n",
    "    return truePos/(predPositives + keras.backend.epsilon())\n",
    "\n",
    "def modelF1Score(trueResult, predictedResult):\n",
    "    \"Calculates F1-Score (2*((precision*recall)/(precision+recall)))\"\n",
    "\n",
    "    precisionResult = modelPrecision(trueResult, predictedResult)\n",
    "    recallResult = modelRecall(trueResult, predictedResult)\n",
    "    return 2 * ((precisionResult*recallResult)/(precisionResult+recallResult+keras.backend.epsilon()))\n",
    "\n",
    "def modelAccuracy(model, test_data, test_label):\n",
    "    score = model.evaluate(test_data, test_label, verbose=0)\n",
    "    print('Test loss:', score[0])\n",
    "    print('Test accuracy:', score[1])\n",
    "    return\n",
    "\n",
    "# Function to plot training and validation, as well as training and validation accuracies\n",
    "\n",
    "def plotResults(model_history):\n",
    "    \n",
    "    # Plot training & validation\n",
    "    plt.plot(model_history.history['loss'])\n",
    "    plt.plot(model_history.history['val_loss'])\n",
    "    plt.title('Epoch-Loss Plot')\n",
    "    plt.ylabel('Loss')\n",
    "    plt.xlabel('Epoch')\n",
    "    plt.legend(['Training', 'Validation'], loc='upper right')\n",
    "    plt.show()\n",
    "\n",
    "    # Plot training & validation accuracy values\n",
    "    plt.plot(model_history.history['accuracy'])\n",
    "    plt.plot(model_history.history['val_accuracy'])\n",
    "    plt.title('Model accuracy')\n",
    "    plt.ylabel('Accuracy')\n",
    "    plt.xlabel('Epoch')\n",
    "    plt.legend(['Training', 'Validation'], loc='upper right')\n",
    "    plt.show()\n",
    "    return\n",
    "\n",
    "# Function for fourier transform\n",
    "\n",
    "def fourierTransformer(trainData, minFreq = np.nan, maxFreq = np.nan, lengthOfRecording = np.nan, removeDCOffset = True):\n",
    "  \"\"\"\n",
    "  Returns the fourier transform for a gived dataset. \n",
    "  :param trainData: Array of time domain datasets, with each row being a differet dataset. \n",
    "  :param minFreq: The lower bound of frequencies you want returned. Default = np.nan (no cutoff)\n",
    "  :param maxFreq: The upper bound of frequencies you want returned. Default = np.nan (no cutoff)\n",
    "  :param lengthOfRecording: Length of recording in seconds. Must be provided if minFreq or maxFreq are provided.\n",
    "  :param removeDCOffset: Whether you want remove the 0 frequency data (DC Offset). Default = True\n",
    "  \"\"\"\n",
    "  \n",
    "  output = np.zeros(trainData.shape)\n",
    "\n",
    "  for i in range(trainData.shape[0]):\n",
    "    output[i, :] = fftpack.fft(trainData[i, :]) \n",
    "  \n",
    "  if not np.isnan(maxFreq) or not np.isnan(minFreq):\n",
    "    assert not np.isnan(lengthOfRecording), \"lengthOfRecording must be defined if minFreq or maxFreq are defined\"\n",
    "    fftFrequencies = fftpack.fftfreq(trainData.shape[1] * 2, d = lengthOfRecording/trainData.shape[1])\n",
    "\n",
    "  if np.isnan(minFreq):\n",
    "    minLim = int(removeDCOffset)\n",
    "  else:\n",
    "    minLim = np.where(fftFrequencies == minFreq)[0][0]\n",
    "\n",
    "  if np.isnan(maxFreq):\n",
    "    maxLim = output.shape[1]//2\n",
    "  else:\n",
    "    maxLim = np.where(fftFrequencies == maxFreq)[0][0]\n",
    "\n",
    "  return np.abs(output[:, minLim:maxLim])"
   ]
  },
  {
   "cell_type": "markdown",
   "metadata": {
    "colab_type": "text",
    "id": "6VSYt8HXovdH"
   },
   "source": [
    "# Loading the Data Files"
   ]
  },
  {
   "cell_type": "code",
   "execution_count": 4,
   "metadata": {
    "colab": {},
    "colab_type": "code",
    "id": "g7Zfhw4277Np"
   },
   "outputs": [],
   "source": [
    "'''\n",
    "Loading the different data sets to be used with the models\n",
    "These data sets have already been preprocessed and prepared for the models\n",
    "Two different data sets are used\n",
    "The first data set is the above-in data set, where the classifier is either above the brain or in the brain\n",
    "This simplifies the data the models will use to make sure that they can properly classify a simple binary classification problem\n",
    "\n",
    "The second data set which is the multi-region set uses all 22 of the different brain regions for classification\n",
    "and represents the actual classification problem\n",
    "\n",
    "Each of the different data sets has data for training, testing, and validation\n",
    "Because of this, there is no need for a train_test_split\n",
    "'''\n",
    "\n",
    "train_data_above_in = np.load('first_5m_train_input_3s_lfp_above_in_2recordings.npy')\n",
    "test_data_above_in = np.load('first_5m_test_input_3s_lfp_above_in_2recordings.npy')\n",
    "val_data_above_in = np.load('first_5m_val_input_3s_lfp_above_in_2recordings.npy')\n",
    "train_label_above_in = np.load('first_5m_train_labels_3s_lfp_above_in_2recordings.npy')\n",
    "test_label_above_in = np.load('first_5m_test_labels_3s_lfp_above_in_2recordings.npy')\n",
    "val_label_above_in = np.load('first_5m_val_labels_3s_lfp_above_in_2recordings.npy')\n",
    "\n",
    "train_data_multi = np.load('first_5m_train_input_3s_lfp_multi_region_4recordings.npy')\n",
    "test_data_multi = np.load('first_5m_test_input_3s_lfp_multi_region_4recordings.npy')\n",
    "val_data_multi = np.load('first_5m_val_input_3s_lfp_multi_region_4recordings.npy')\n",
    "train_label_multi = np.load('first_5m_train_labels_3s_lfp_multi_region_4recordings.npy')\n",
    "test_label_multi = np.load('first_5m_test_labels_3s_lfp_multi_region_4recordings.npy')\n",
    "val_label_multi = np.load('first_5m_val_labels_3s_lfp_multi_region_4recordings.npy')"
   ]
  },
  {
   "cell_type": "code",
   "execution_count": 5,
   "metadata": {
    "colab": {
     "base_uri": "https://localhost:8080/",
     "height": 85
    },
    "colab_type": "code",
    "id": "Fb4XDZuMmGCy",
    "outputId": "b7f5c537-e167-4856-cc52-4bb73e5e8aae"
   },
   "outputs": [
    {
     "name": "stdout",
     "output_type": "stream",
     "text": [
      "(73980, 7500)\n",
      "(24660, 7500)\n",
      "(24660, 7500)\n",
      "(73980, 7500, 1)\n",
      "(24660, 7500, 1)\n",
      "(24660, 7500, 1)\n"
     ]
    }
   ],
   "source": [
    "# Expanding the input data for the CNNs, which requires 3-dimensional data sets\n",
    "\n",
    "print(train_data_multi.shape)\n",
    "print(test_data_multi.shape)\n",
    "print(val_data_multi.shape)\n",
    "\n",
    "train_data_above_in = np.expand_dims(train_data_above_in, axis=2)\n",
    "test_data_above_in = np.expand_dims(test_data_above_in, axis=2)\n",
    "val_data_above_in = np.expand_dims(val_data_above_in, axis=2)\n",
    "\n",
    "train_data_multi = np.expand_dims(train_data_multi, axis=2)\n",
    "test_data_multi = np.expand_dims(test_data_multi, axis=2)\n",
    "val_data_multi = np.expand_dims(val_data_multi, axis=2)\n",
    "\n",
    "print(train_data_multi.shape)\n",
    "print(test_data_multi.shape)\n",
    "print(val_data_multi.shape)"
   ]
  },
  {
   "cell_type": "markdown",
   "metadata": {
    "colab_type": "text",
    "id": "1DLoGfg_L4O6"
   },
   "source": [
    "# Building and Testing the Neural Networks"
   ]
  },
  {
   "cell_type": "code",
   "execution_count": 29,
   "metadata": {
    "colab": {},
    "colab_type": "code",
    "id": "aSQTzbV0Myt5"
   },
   "outputs": [],
   "source": [
    "# Model 1: Initial model on the simple data set\n",
    "opt = keras.optimizers.adam(lr=0.01)\n",
    "\n",
    "CNN_above_in_1 = models.Sequential()\n",
    "CNN_above_in_1.add(layers.Conv1D(filters=6, kernel_size=300, activation='relu', input_shape=(7500,1)))\n",
    "CNN_above_in_1.add(layers.Conv1D(filters=4, kernel_size=4, activation='relu'))\n",
    "CNN_above_in_1.add(layers.Dropout(0.5))\n",
    "CNN_above_in_1.add(layers.MaxPooling1D(pool_size=2))\n",
    "CNN_above_in_1.add(layers.Flatten())\n",
    "CNN_above_in_1.add(layers.Dense(44, activation='relu'))\n",
    "CNN_above_in_1.add(layers.Dense(22, activation='softmax'))\n",
    "CNN_above_in_1.compile(loss='binary_crossentropy', optimizer=opt, metrics=['accuracy'])"
   ]
  },
  {
   "cell_type": "code",
   "execution_count": 26,
   "metadata": {
    "colab": {},
    "colab_type": "code",
    "id": "Nc8LUI1jAXyB"
   },
   "outputs": [],
   "source": [
    "'''\n",
    "#To save the model weights to a hard drive\n",
    "\n",
    "checkpoint_filepath = '/content/drive/My Drive/CSCI_5391/weights_best.hdf5'\n",
    "checkpoint = ModelCheckpoint(checkpoint_filepath, monitor='val_acc', verbose=1, save_best_only=True, mode='max')\n",
    "callbacks_list = [checkpoint]\n",
    "'''"
   ]
  },
  {
   "cell_type": "code",
   "execution_count": 30,
   "metadata": {
    "colab": {
     "base_uri": "https://localhost:8080/",
     "height": 714
    },
    "colab_type": "code",
    "id": "QBCfgPzjNOsx",
    "outputId": "386c2da6-00d9-4d52-9264-822cce7e910a",
    "scrolled": true
   },
   "outputs": [
    {
     "name": "stdout",
     "output_type": "stream",
     "text": [
      "Train on 4800 samples, validate on 1600 samples\n",
      "Epoch 1/20\n",
      "4800/4800 [==============================] - 37s 8ms/step - loss: 0.7247 - accuracy: 0.9513 - val_loss: 0.6727 - val_accuracy: 0.9561\n",
      "Epoch 2/20\n",
      "4800/4800 [==============================] - 32s 7ms/step - loss: 0.7139 - accuracy: 0.9536 - val_loss: 0.6727 - val_accuracy: 0.9561\n",
      "Epoch 3/20\n",
      "4800/4800 [==============================] - 32s 7ms/step - loss: 0.7139 - accuracy: 0.9536 - val_loss: 0.6727 - val_accuracy: 0.9561\n",
      "Epoch 4/20\n",
      "4800/4800 [==============================] - 32s 7ms/step - loss: 0.7139 - accuracy: 0.9536 - val_loss: 0.6727 - val_accuracy: 0.9561\n",
      "Epoch 5/20\n",
      "4800/4800 [==============================] - 32s 7ms/step - loss: 0.7139 - accuracy: 0.9536 - val_loss: 0.6727 - val_accuracy: 0.9561\n",
      "Epoch 6/20\n",
      "4800/4800 [==============================] - 32s 7ms/step - loss: 0.7139 - accuracy: 0.9536 - val_loss: 0.6727 - val_accuracy: 0.9561\n",
      "Epoch 7/20\n",
      "4800/4800 [==============================] - 33s 7ms/step - loss: 0.7139 - accuracy: 0.9536 - val_loss: 0.6727 - val_accuracy: 0.9561\n",
      "Epoch 8/20\n",
      "4800/4800 [==============================] - 33s 7ms/step - loss: 0.7139 - accuracy: 0.9536 - val_loss: 0.6727 - val_accuracy: 0.9561\n",
      "Epoch 9/20\n",
      "4800/4800 [==============================] - 37s 8ms/step - loss: 0.7139 - accuracy: 0.9536 - val_loss: 0.6727 - val_accuracy: 0.9561\n",
      "Epoch 10/20\n",
      "4800/4800 [==============================] - 34s 7ms/step - loss: 0.7139 - accuracy: 0.9536 - val_loss: 0.6727 - val_accuracy: 0.9561\n",
      "Epoch 11/20\n",
      "4800/4800 [==============================] - 32s 7ms/step - loss: 0.7139 - accuracy: 0.9536 - val_loss: 0.6727 - val_accuracy: 0.9561\n",
      "Epoch 12/20\n",
      "4800/4800 [==============================] - 32s 7ms/step - loss: 0.7139 - accuracy: 0.9536 - val_loss: 0.6727 - val_accuracy: 0.9561\n",
      "Epoch 13/20\n",
      "4800/4800 [==============================] - 33s 7ms/step - loss: 0.7139 - accuracy: 0.9536 - val_loss: 0.6727 - val_accuracy: 0.9561\n",
      "Epoch 14/20\n",
      "4800/4800 [==============================] - 31s 7ms/step - loss: 0.7139 - accuracy: 0.9536 - val_loss: 0.6727 - val_accuracy: 0.9561\n",
      "Epoch 15/20\n",
      "4800/4800 [==============================] - 31s 7ms/step - loss: 0.7139 - accuracy: 0.9536 - val_loss: 0.6727 - val_accuracy: 0.9561\n",
      "Epoch 16/20\n",
      "4800/4800 [==============================] - 31s 6ms/step - loss: 0.7139 - accuracy: 0.9536 - val_loss: 0.6727 - val_accuracy: 0.9561\n",
      "Epoch 17/20\n",
      "4800/4800 [==============================] - 31s 7ms/step - loss: 0.7139 - accuracy: 0.9536 - val_loss: 0.6727 - val_accuracy: 0.9561\n",
      "Epoch 18/20\n",
      "4800/4800 [==============================] - 33s 7ms/step - loss: 0.7139 - accuracy: 0.9536 - val_loss: 0.6727 - val_accuracy: 0.9561\n",
      "Epoch 19/20\n",
      "4800/4800 [==============================] - 35s 7ms/step - loss: 0.7139 - accuracy: 0.9536 - val_loss: 0.6727 - val_accuracy: 0.9561\n",
      "Epoch 20/20\n",
      "4800/4800 [==============================] - 32s 7ms/step - loss: 0.7139 - accuracy: 0.9536 - val_loss: 0.6727 - val_accuracy: 0.9561\n"
     ]
    }
   ],
   "source": [
    "CNN_above_in_1_history = CNN_above_in_1.fit(train_data_above_in, train_label_above_in, \n",
    "                   validation_data=(val_data_above_in ,val_label_above_in),\n",
    "                   epochs=20, batch_size=256)"
   ]
  },
  {
   "cell_type": "code",
   "execution_count": 31,
   "metadata": {},
   "outputs": [
    {
     "data": {
      "image/png": "[encoded data removed]",
      "text/plain": [
       "<Figure size 432x288 with 1 Axes>"
      ]
     },
     "metadata": {
      "needs_background": "light"
     },
     "output_type": "display_data"
    },
    {
     "data": {
      "image/png": "[encoded data removed]",
      "text/plain": [
       "<Figure size 432x288 with 1 Axes>"
      ]
     },
     "metadata": {
      "needs_background": "light"
     },
     "output_type": "display_data"
    },
    {
     "name": "stdout",
     "output_type": "stream",
     "text": [
      "Test loss: 0.677097817659378\n",
      "Test accuracy: 0.9558525085449219\n"
     ]
    }
   ],
   "source": [
    "plotResults(CNN_above_in_1_history)\n",
    "modelAccuracy(CNN_above_in_1, test_data_above_in, test_label_above_in)"
   ]
  },
  {
   "cell_type": "markdown",
   "metadata": {},
   "source": [
    "As is to be expected for this type of simple binary classification data, the model quickly reaches 95.13% accuracy in the first epoch, and levels off around 95.36% accuracy. This simple experiment shows that this data can be classified by a 1D CNN. To further test this model, and other models, more experiments are performed only utilizing the multi-categorical data. This data has 22 distinct classifications."
   ]
  },
  {
   "cell_type": "code",
   "execution_count": 10,
   "metadata": {
    "colab": {},
    "colab_type": "code",
    "id": "5ealDjlD2lEe"
   },
   "outputs": [],
   "source": [
    "# Model 1 on the harder, multi-region data\n",
    "\n",
    "CNN_multi_1 = models.Sequential()\n",
    "CNN_multi_1.add(layers.Conv1D(filters=6, kernel_size=300, activation='relu', input_shape=(7500,1)))\n",
    "CNN_multi_1.add(layers.Conv1D(filters=4, kernel_size=4, activation='relu'))\n",
    "CNN_multi_1.add(layers.Dropout(0.5))\n",
    "CNN_multi_1.add(layers.MaxPooling1D(pool_size=2))\n",
    "CNN_multi_1.add(layers.Flatten())\n",
    "CNN_multi_1.add(layers.Dense(44, activation='relu'))\n",
    "CNN_multi_1.add(layers.Dense(22, activation='softmax'))\n",
    "CNN_multi_1.compile(loss='categorical_crossentropy', optimizer='adam', metrics=['accuracy'])"
   ]
  },
  {
   "cell_type": "code",
   "execution_count": 11,
   "metadata": {
    "colab": {
     "base_uri": "https://localhost:8080/",
     "height": 714
    },
    "colab_type": "code",
    "id": "i_Sr6TiF2zCb",
    "outputId": "c3100a51-47f0-4a81-d54c-e750459fdbea"
   },
   "outputs": [
    {
     "name": "stdout",
     "output_type": "stream",
     "text": [
      "Train on 73980 samples, validate on 24660 samples\n",
      "Epoch 1/20\n",
      "73980/73980 [==============================] - 484s 7ms/step - loss: 3.1919 - accuracy: 0.2413 - val_loss: 2.2489 - val_accuracy: 0.3367\n",
      "Epoch 2/20\n",
      "73980/73980 [==============================] - 490s 7ms/step - loss: 1.9382 - accuracy: 0.4003 - val_loss: 1.6299 - val_accuracy: 0.4984\n",
      "Epoch 3/20\n",
      "73980/73980 [==============================] - 518s 7ms/step - loss: 1.4165 - accuracy: 0.5464 - val_loss: 1.1931 - val_accuracy: 0.6262\n",
      "Epoch 4/20\n",
      "73980/73980 [==============================] - 498s 7ms/step - loss: 1.0845 - accuracy: 0.6476 - val_loss: 1.0816 - val_accuracy: 0.6545\n",
      "Epoch 5/20\n",
      "73980/73980 [==============================] - 507s 7ms/step - loss: 0.8485 - accuracy: 0.7249 - val_loss: 0.7375 - val_accuracy: 0.7695\n",
      "Epoch 6/20\n",
      "73980/73980 [==============================] - 500s 7ms/step - loss: 0.6750 - accuracy: 0.7802 - val_loss: 0.6584 - val_accuracy: 0.7976\n",
      "Epoch 7/20\n",
      "73980/73980 [==============================] - 535s 7ms/step - loss: 0.5791 - accuracy: 0.8124 - val_loss: 0.5552 - val_accuracy: 0.8262\n",
      "Epoch 8/20\n",
      "73980/73980 [==============================] - 516s 7ms/step - loss: 0.5272 - accuracy: 0.8280 - val_loss: 0.6014 - val_accuracy: 0.8131\n",
      "Epoch 9/20\n",
      "73980/73980 [==============================] - 554s 7ms/step - loss: 0.4679 - accuracy: 0.8468 - val_loss: 0.5001 - val_accuracy: 0.8391\n",
      "Epoch 10/20\n",
      "73980/73980 [==============================] - 485s 7ms/step - loss: 0.4148 - accuracy: 0.8627 - val_loss: 0.4425 - val_accuracy: 0.8594\n",
      "Epoch 11/20\n",
      "73980/73980 [==============================] - 459s 6ms/step - loss: 0.3767 - accuracy: 0.8761 - val_loss: 0.4369 - val_accuracy: 0.8608\n",
      "Epoch 12/20\n",
      "73980/73980 [==============================] - 449s 6ms/step - loss: 0.3558 - accuracy: 0.8822 - val_loss: 0.6253 - val_accuracy: 0.7972\n",
      "Epoch 13/20\n",
      "73980/73980 [==============================] - 455s 6ms/step - loss: 0.3386 - accuracy: 0.8868 - val_loss: 0.3982 - val_accuracy: 0.8699\n",
      "Epoch 14/20\n",
      "73980/73980 [==============================] - 454s 6ms/step - loss: 0.3038 - accuracy: 0.8974 - val_loss: 0.3807 - val_accuracy: 0.8764\n",
      "Epoch 15/20\n",
      "73980/73980 [==============================] - 448s 6ms/step - loss: 0.2792 - accuracy: 0.9055 - val_loss: 0.3798 - val_accuracy: 0.8777\n",
      "Epoch 16/20\n",
      "73980/73980 [==============================] - 451s 6ms/step - loss: 0.2943 - accuracy: 0.9002 - val_loss: 0.3696 - val_accuracy: 0.8828\n",
      "Epoch 17/20\n",
      "73980/73980 [==============================] - 451s 6ms/step - loss: 0.2600 - accuracy: 0.9121 - val_loss: 0.3618 - val_accuracy: 0.8843\n",
      "Epoch 18/20\n",
      "73980/73980 [==============================] - 451s 6ms/step - loss: 0.2864 - accuracy: 0.9055 - val_loss: 0.3743 - val_accuracy: 0.8794\n",
      "Epoch 19/20\n",
      "73980/73980 [==============================] - 446s 6ms/step - loss: 0.2484 - accuracy: 0.9165 - val_loss: 0.3636 - val_accuracy: 0.8869\n",
      "Epoch 20/20\n",
      "73980/73980 [==============================] - 445s 6ms/step - loss: 0.2280 - accuracy: 0.9217 - val_loss: 0.3416 - val_accuracy: 0.8906\n"
     ]
    }
   ],
   "source": [
    "CNN_multi_1_history = CNN_multi_1.fit(train_data_multi, train_label_multi, \n",
    "                   validation_data=(val_data_multi ,val_label_multi),\n",
    "                   epochs=20, batch_size=256)"
   ]
  },
  {
   "cell_type": "code",
   "execution_count": 12,
   "metadata": {
    "colab": {
     "base_uri": "https://localhost:8080/",
     "height": 51
    },
    "colab_type": "code",
    "id": "54KHRBWa3k2v",
    "outputId": "60578be7-c4fb-4b4e-c304-f625065cd895"
   },
   "outputs": [
    {
     "data": {
      "image/png": "[encoded data removed]",
      "text/plain": [
       "<Figure size 432x288 with 1 Axes>"
      ]
     },
     "metadata": {
      "needs_background": "light"
     },
     "output_type": "display_data"
    },
    {
     "data": {
      "image/png": "[encoded data removed]",
      "text/plain": [
       "<Figure size 432x288 with 1 Axes>"
      ]
     },
     "metadata": {
      "needs_background": "light"
     },
     "output_type": "display_data"
    },
    {
     "name": "stdout",
     "output_type": "stream",
     "text": [
      "Test loss: 0.35985241901168763\n",
      "Test accuracy: 0.8876317739486694\n"
     ]
    }
   ],
   "source": [
    "plotResults(CNN_multi_1_history)\n",
    "modelAccuracy(CNN_multi_1, test_data_multi, test_label_multi)"
   ]
  },
  {
   "cell_type": "markdown",
   "metadata": {},
   "source": [
    "A model showing good results over 20 epochs, leveling off around 95% accuracy."
   ]
  },
  {
   "cell_type": "code",
   "execution_count": 13,
   "metadata": {
    "colab": {},
    "colab_type": "code",
    "id": "kKipdiymQxuc"
   },
   "outputs": [],
   "source": [
    "'''\n",
    "Model2: Another model for the above-in data\n",
    "For the convolutional layers: more filters, but smaller kernel sizes.\n",
    "As well as a larger intermediate dense layer\n",
    "'''\n",
    "\n",
    "CNN_above_in_2 = models.Sequential()\n",
    "CNN_above_in_2.add(layers.Conv1D(filters=32, kernel_size=4, activation='relu', input_shape=(7500,1)))\n",
    "CNN_above_in_2.add(layers.Conv1D(filters=32, kernel_size=4, activation='relu'))\n",
    "CNN_above_in_2.add(layers.Dropout(0.5))\n",
    "CNN_above_in_2.add(layers.MaxPooling1D(pool_size=2))\n",
    "CNN_above_in_2.add(layers.Flatten())\n",
    "CNN_above_in_2.add(layers.Dense(50, activation='relu'))\n",
    "CNN_above_in_2.add(layers.Dense(22, activation='softmax'))\n",
    "CNN_above_in_2.compile(loss='binary_crossentropy', optimizer='adam', metrics=['accuracy'])"
   ]
  },
  {
   "cell_type": "code",
   "execution_count": 14,
   "metadata": {
    "colab": {
     "base_uri": "https://localhost:8080/",
     "height": 714
    },
    "colab_type": "code",
    "id": "NnNwZyT9Q1uS",
    "outputId": "d62ff4c2-c1b2-4bbc-f078-ce03e1deca3d"
   },
   "outputs": [
    {
     "name": "stdout",
     "output_type": "stream",
     "text": [
      "Train on 4800 samples, validate on 1600 samples\n",
      "Epoch 1/20\n",
      "4800/4800 [==============================] - 51s 11ms/step - loss: 0.7468 - accuracy: 0.9504 - val_loss: 0.7215 - val_accuracy: 0.9530\n",
      "Epoch 2/20\n",
      "4800/4800 [==============================] - 51s 11ms/step - loss: 0.6842 - accuracy: 0.9555 - val_loss: 0.7215 - val_accuracy: 0.9530\n",
      "Epoch 3/20\n",
      "4800/4800 [==============================] - 51s 11ms/step - loss: 0.6842 - accuracy: 0.9555 - val_loss: 0.7215 - val_accuracy: 0.9530\n",
      "Epoch 4/20\n",
      "4800/4800 [==============================] - 51s 11ms/step - loss: 0.6842 - accuracy: 0.9555 - val_loss: 0.7215 - val_accuracy: 0.9530\n",
      "Epoch 5/20\n",
      "4800/4800 [==============================] - 51s 11ms/step - loss: 0.6842 - accuracy: 0.9555 - val_loss: 0.7215 - val_accuracy: 0.9530\n",
      "Epoch 6/20\n",
      "4800/4800 [==============================] - 51s 11ms/step - loss: 0.6842 - accuracy: 0.9555 - val_loss: 0.7215 - val_accuracy: 0.9530\n",
      "Epoch 7/20\n",
      "4800/4800 [==============================] - 51s 11ms/step - loss: 0.6842 - accuracy: 0.9555 - val_loss: 0.7215 - val_accuracy: 0.9530\n",
      "Epoch 8/20\n",
      "4800/4800 [==============================] - 52s 11ms/step - loss: 0.6842 - accuracy: 0.9555 - val_loss: 0.7215 - val_accuracy: 0.9530\n",
      "Epoch 9/20\n",
      "4800/4800 [==============================] - 51s 11ms/step - loss: 0.6842 - accuracy: 0.9555 - val_loss: 0.7215 - val_accuracy: 0.9530\n",
      "Epoch 10/20\n",
      "4800/4800 [==============================] - 51s 11ms/step - loss: 0.6842 - accuracy: 0.9555 - val_loss: 0.7215 - val_accuracy: 0.9530\n",
      "Epoch 11/20\n",
      "4800/4800 [==============================] - 52s 11ms/step - loss: 0.6842 - accuracy: 0.9555 - val_loss: 0.7215 - val_accuracy: 0.9530\n",
      "Epoch 12/20\n",
      "4800/4800 [==============================] - 52s 11ms/step - loss: 0.6842 - accuracy: 0.9555 - val_loss: 0.7215 - val_accuracy: 0.9530\n",
      "Epoch 13/20\n",
      "4800/4800 [==============================] - 52s 11ms/step - loss: 0.6842 - accuracy: 0.9555 - val_loss: 0.7215 - val_accuracy: 0.9530\n",
      "Epoch 14/20\n",
      "4800/4800 [==============================] - 53s 11ms/step - loss: 0.6842 - accuracy: 0.9555 - val_loss: 0.7215 - val_accuracy: 0.9530\n",
      "Epoch 15/20\n",
      "4800/4800 [==============================] - 52s 11ms/step - loss: 0.6842 - accuracy: 0.9555 - val_loss: 0.7215 - val_accuracy: 0.9530\n",
      "Epoch 16/20\n",
      "4800/4800 [==============================] - 53s 11ms/step - loss: 0.6842 - accuracy: 0.9555 - val_loss: 0.7215 - val_accuracy: 0.9530\n",
      "Epoch 17/20\n",
      "4800/4800 [==============================] - 51s 11ms/step - loss: 0.6842 - accuracy: 0.9555 - val_loss: 0.7215 - val_accuracy: 0.9530\n",
      "Epoch 18/20\n",
      "4800/4800 [==============================] - 52s 11ms/step - loss: 0.6842 - accuracy: 0.9555 - val_loss: 0.7215 - val_accuracy: 0.9530\n",
      "Epoch 19/20\n",
      "4800/4800 [==============================] - 51s 11ms/step - loss: 0.6842 - accuracy: 0.9555 - val_loss: 0.7215 - val_accuracy: 0.9530\n",
      "Epoch 20/20\n",
      "4800/4800 [==============================] - 51s 11ms/step - loss: 0.6842 - accuracy: 0.9555 - val_loss: 0.7215 - val_accuracy: 0.9530\n"
     ]
    }
   ],
   "source": [
    "CNN_above_in_2_history = CNN_above_in_2.fit(train_data_above_in, train_label_above_in, \n",
    "                   validation_data=(val_data_above_in ,val_label_above_in),\n",
    "                   epochs=20, batch_size=256)"
   ]
  },
  {
   "cell_type": "code",
   "execution_count": 22,
   "metadata": {
    "colab": {},
    "colab_type": "code",
    "id": "Gk2bYtj2eSCk"
   },
   "outputs": [],
   "source": [
    "# Model 2 on the multi-region data set\n",
    "\n",
    "opt = keras.optimizers.adam(lr=0.008)\n",
    "\n",
    "CNN_multi_2 = models.Sequential()\n",
    "CNN_multi_2.add(layers.Conv1D(filters=16, kernel_size=4, activation='relu', input_shape=(7500,1)))\n",
    "CNN_multi_2.add(layers.Conv1D(filters=16, kernel_size=4, activation='relu'))\n",
    "CNN_multi_2.add(layers.Dropout(0.5))\n",
    "CNN_multi_2.add(layers.MaxPooling1D(pool_size=2))\n",
    "CNN_multi_2.add(layers.Flatten())\n",
    "CNN_multi_2.add(layers.Dense(50, activation='relu'))\n",
    "CNN_multi_2.add(layers.Dense(22, activation='softmax'))\n",
    "CNN_multi_2.compile(loss='categorical_crossentropy', optimizer='adam', metrics=['accuracy'])"
   ]
  },
  {
   "cell_type": "code",
   "execution_count": 23,
   "metadata": {
    "colab": {
     "base_uri": "https://localhost:8080/",
     "height": 714
    },
    "colab_type": "code",
    "id": "bV6bC8_eedXh",
    "outputId": "54678d5f-22be-4dad-a18e-39ae240caaad",
    "scrolled": true
   },
   "outputs": [
    {
     "name": "stdout",
     "output_type": "stream",
     "text": [
      "Train on 73980 samples, validate on 24660 samples\n",
      "Epoch 1/20\n",
      "73980/73980 [==============================] - 409s 6ms/step - loss: 31.3978 - accuracy: 0.1276 - val_loss: 2.8140 - val_accuracy: 0.1264\n",
      "Epoch 2/20\n",
      "73980/73980 [==============================] - 405s 5ms/step - loss: 2.7286 - accuracy: 0.1474 - val_loss: 2.6680 - val_accuracy: 0.1485\n",
      "Epoch 3/20\n",
      "73980/73980 [==============================] - 407s 5ms/step - loss: 2.6261 - accuracy: 0.1478 - val_loss: 2.6029 - val_accuracy: 0.1485\n",
      "Epoch 4/20\n",
      "73980/73980 [==============================] - 404s 5ms/step - loss: 2.5797 - accuracy: 0.1478 - val_loss: 2.5714 - val_accuracy: 0.1484\n",
      "Epoch 5/20\n",
      "73980/73980 [==============================] - 396s 5ms/step - loss: 2.5561 - accuracy: 0.1478 - val_loss: 2.5543 - val_accuracy: 0.1485\n",
      "Epoch 6/20\n",
      "73980/73980 [==============================] - 403s 5ms/step - loss: 2.5424 - accuracy: 0.1478 - val_loss: 2.5437 - val_accuracy: 0.1485\n",
      "Epoch 7/20\n",
      "73980/73980 [==============================] - 401s 5ms/step - loss: 2.5336 - accuracy: 0.1478 - val_loss: 2.5360 - val_accuracy: 0.1485\n",
      "Epoch 8/20\n",
      "73980/73980 [==============================] - 399s 5ms/step - loss: 2.5271 - accuracy: 0.1478 - val_loss: 2.5307 - val_accuracy: 0.1485\n",
      "Epoch 9/20\n",
      "73980/73980 [==============================] - 400s 5ms/step - loss: 2.5225 - accuracy: 0.1478 - val_loss: 2.5267 - val_accuracy: 0.1485\n",
      "Epoch 10/20\n",
      "73980/73980 [==============================] - 400s 5ms/step - loss: 2.5191 - accuracy: 0.1478 - val_loss: 2.5237 - val_accuracy: 0.1485\n",
      "Epoch 11/20\n",
      "73980/73980 [==============================] - 398s 5ms/step - loss: 2.5164 - accuracy: 0.1478 - val_loss: 2.5214 - val_accuracy: 0.1485\n",
      "Epoch 12/20\n",
      "73980/73980 [==============================] - 403s 5ms/step - loss: 2.5144 - accuracy: 0.1478 - val_loss: 2.5196 - val_accuracy: 0.1485\n",
      "Epoch 13/20\n",
      "73980/73980 [==============================] - 402s 5ms/step - loss: 2.5128 - accuracy: 0.1478 - val_loss: 2.5181 - val_accuracy: 0.1485\n",
      "Epoch 14/20\n",
      "73980/73980 [==============================] - 408s 6ms/step - loss: 2.5116 - accuracy: 0.1478 - val_loss: 2.5171 - val_accuracy: 0.1485\n",
      "Epoch 15/20\n",
      "73980/73980 [==============================] - 398s 5ms/step - loss: 2.5106 - accuracy: 0.1478 - val_loss: 2.5162 - val_accuracy: 0.1485\n",
      "Epoch 16/20\n",
      "73980/73980 [==============================] - 397s 5ms/step - loss: 2.5099 - accuracy: 0.1478 - val_loss: 2.5155 - val_accuracy: 0.1485\n",
      "Epoch 17/20\n",
      "73980/73980 [==============================] - 399s 5ms/step - loss: 2.5093 - accuracy: 0.1478 - val_loss: 2.5150 - val_accuracy: 0.1485\n",
      "Epoch 18/20\n",
      "73980/73980 [==============================] - 401s 5ms/step - loss: 2.5088 - accuracy: 0.1478 - val_loss: 2.5145 - val_accuracy: 0.1485\n",
      "Epoch 19/20\n",
      "73980/73980 [==============================] - 401s 5ms/step - loss: 2.5084 - accuracy: 0.1478 - val_loss: 2.5142 - val_accuracy: 0.1485\n",
      "Epoch 20/20\n",
      "73980/73980 [==============================] - 397s 5ms/step - loss: 2.5081 - accuracy: 0.1478 - val_loss: 2.5140 - val_accuracy: 0.1485\n"
     ]
    }
   ],
   "source": [
    "CNN_multi_2_history = CNN_multi_2.fit(train_data_multi, train_label_multi, \n",
    "                   validation_data=(val_data_multi ,test_label_multi),\n",
    "                   epochs=20, batch_size=128)"
   ]
  },
  {
   "cell_type": "code",
   "execution_count": 24,
   "metadata": {
    "colab": {
     "base_uri": "https://localhost:8080/",
     "height": 51
    },
    "colab_type": "code",
    "id": "yY2WZI-a4vG_",
    "outputId": "23700242-1a18-4ae3-c542-f61efc92a627"
   },
   "outputs": [
    {
     "data": {
      "image/png": "[encoded data removed]",
      "text/plain": [
       "<Figure size 432x288 with 1 Axes>"
      ]
     },
     "metadata": {
      "needs_background": "light"
     },
     "output_type": "display_data"
    },
    {
     "data": {
      "image/png": "[encoded data removed]",
      "text/plain": [
       "<Figure size 432x288 with 1 Axes>"
      ]
     },
     "metadata": {
      "needs_background": "light"
     },
     "output_type": "display_data"
    },
    {
     "name": "stdout",
     "output_type": "stream",
     "text": [
      "Test loss: 2.514040122105644\n",
      "Test accuracy: 0.1484590470790863\n"
     ]
    }
   ],
   "source": [
    "plotResults(CNN_multi_2_history)\n",
    "modelAccuracy(CNN_multi_2, test_data_multi, test_label_multi)"
   ]
  },
  {
   "cell_type": "markdown",
   "metadata": {},
   "source": [
    "This model reaches a plateau of 14.78% accuracy. Slight changes were made to the model such as learning rate, number of epochs, and batch size but there was no change in accuracy. This points to the fact that the base architecture of the model is inefficient at learning the classification of the data."
   ]
  },
  {
   "cell_type": "code",
   "execution_count": 22,
   "metadata": {},
   "outputs": [],
   "source": [
    "# Model 3\n",
    "# Variation of Model 1\n",
    "# Changing the filter and kernel sizes\n",
    "\n",
    "CNN_multi_3 = models.Sequential()\n",
    "CNN_multi_3.add(layers.Conv1D(filters=6, kernel_size=50, activation='relu', input_shape=(7500,1)))\n",
    "CNN_multi_3.add(layers.Conv1D(filters=4, kernel_size=25, activation='relu'))\n",
    "CNN_multi_3.add(layers.Dropout(0.5))\n",
    "CNN_multi_3.add(layers.MaxPooling1D(pool_size=2))\n",
    "CNN_multi_3.add(layers.Flatten())\n",
    "CNN_multi_3.add(layers.Dense(44, activation='relu'))\n",
    "CNN_multi_3.add(layers.Dense(22, activation='softmax'))\n",
    "CNN_multi_3.compile(loss='categorical_crossentropy', optimizer='adam', metrics=['accuracy'])"
   ]
  },
  {
   "cell_type": "code",
   "execution_count": 23,
   "metadata": {},
   "outputs": [
    {
     "name": "stdout",
     "output_type": "stream",
     "text": [
      "Train on 73980 samples, validate on 24660 samples\n",
      "Epoch 1/20\n",
      "73980/73980 [==============================] - 372s 5ms/step - loss: 2.8897 - accuracy: 0.3941 - val_loss: 4.1116 - val_accuracy: 0.1012\n",
      "Epoch 2/20\n",
      "73980/73980 [==============================] - 374s 5ms/step - loss: 0.9085 - accuracy: 0.7114 - val_loss: 6.4880 - val_accuracy: 0.0981\n",
      "Epoch 3/20\n",
      "73980/73980 [==============================] - 367s 5ms/step - loss: 0.5964 - accuracy: 0.8052 - val_loss: 7.5784 - val_accuracy: 0.0970\n",
      "Epoch 4/20\n",
      "73980/73980 [==============================] - 351s 5ms/step - loss: 0.4743 - accuracy: 0.8451 - val_loss: 8.0884 - val_accuracy: 0.0975\n",
      "Epoch 5/20\n",
      "73980/73980 [==============================] - 354s 5ms/step - loss: 0.3961 - accuracy: 0.8694 - val_loss: 8.3467 - val_accuracy: 0.0976\n",
      "Epoch 6/20\n",
      "73980/73980 [==============================] - 344s 5ms/step - loss: 0.3499 - accuracy: 0.8855 - val_loss: 10.4220 - val_accuracy: 0.0962\n",
      "Epoch 7/20\n",
      "73980/73980 [==============================] - 347s 5ms/step - loss: 0.3154 - accuracy: 0.8954 - val_loss: 10.9976 - val_accuracy: 0.0961\n",
      "Epoch 8/20\n",
      "73980/73980 [==============================] - 343s 5ms/step - loss: 0.2903 - accuracy: 0.9027 - val_loss: 10.9265 - val_accuracy: 0.0966\n",
      "Epoch 9/20\n",
      "73980/73980 [==============================] - 343s 5ms/step - loss: 0.2753 - accuracy: 0.9085 - val_loss: 10.8228 - val_accuracy: 0.0966\n",
      "Epoch 10/20\n",
      "73980/73980 [==============================] - 340s 5ms/step - loss: 0.2535 - accuracy: 0.9148 - val_loss: 11.8583 - val_accuracy: 0.0964\n",
      "Epoch 11/20\n",
      "73980/73980 [==============================] - 350s 5ms/step - loss: 0.2442 - accuracy: 0.9179 - val_loss: 12.7530 - val_accuracy: 0.0961\n",
      "Epoch 12/20\n",
      "73980/73980 [==============================] - 339s 5ms/step - loss: 0.2384 - accuracy: 0.9205 - val_loss: 12.3016 - val_accuracy: 0.0962\n",
      "Epoch 13/20\n",
      "73980/73980 [==============================] - 346s 5ms/step - loss: 0.2271 - accuracy: 0.9248 - val_loss: 12.5544 - val_accuracy: 0.0961\n",
      "Epoch 14/20\n",
      "73980/73980 [==============================] - 349s 5ms/step - loss: 0.2071 - accuracy: 0.9311 - val_loss: 13.8959 - val_accuracy: 0.0964\n",
      "Epoch 15/20\n",
      "73980/73980 [==============================] - 351s 5ms/step - loss: 0.2051 - accuracy: 0.9313 - val_loss: 13.1269 - val_accuracy: 0.0969\n",
      "Epoch 16/20\n",
      "73980/73980 [==============================] - 348s 5ms/step - loss: 0.1947 - accuracy: 0.9351 - val_loss: 12.4331 - val_accuracy: 0.0966\n",
      "Epoch 17/20\n",
      "73980/73980 [==============================] - 339s 5ms/step - loss: 0.1906 - accuracy: 0.9360 - val_loss: 14.5256 - val_accuracy: 0.0964\n",
      "Epoch 18/20\n",
      "73980/73980 [==============================] - 346s 5ms/step - loss: 0.1969 - accuracy: 0.9348 - val_loss: 14.4682 - val_accuracy: 0.0963\n",
      "Epoch 19/20\n",
      "73980/73980 [==============================] - 339s 5ms/step - loss: 0.1822 - accuracy: 0.9395 - val_loss: 14.8781 - val_accuracy: 0.0961\n",
      "Epoch 20/20\n",
      "73980/73980 [==============================] - 343s 5ms/step - loss: 0.1781 - accuracy: 0.9406 - val_loss: 15.4021 - val_accuracy: 0.0968\n"
     ]
    }
   ],
   "source": [
    "CNN_multi_3_history = CNN_multi_3.fit(train_data_multi, train_label_multi, \n",
    "                   validation_data=(val_data_multi ,test_label_multi),\n",
    "                   epochs=20, batch_size=256)"
   ]
  },
  {
   "cell_type": "code",
   "execution_count": 24,
   "metadata": {
    "colab": {
     "base_uri": "https://localhost:8080/",
     "height": 51
    },
    "colab_type": "code",
    "id": "IOstcn4j5qF3",
    "outputId": "c5239616-f950-4f06-aa29-63368eade217"
   },
   "outputs": [
    {
     "data": {
      "image/png": "[encoded data removed]",
      "text/plain": [
       "<Figure size 432x288 with 1 Axes>"
      ]
     },
     "metadata": {
      "needs_background": "light"
     },
     "output_type": "display_data"
    },
    {
     "data": {
      "image/png": "[encoded data removed]",
      "text/plain": [
       "<Figure size 432x288 with 1 Axes>"
      ]
     },
     "metadata": {
      "needs_background": "light"
     },
     "output_type": "display_data"
    },
    {
     "name": "stdout",
     "output_type": "stream",
     "text": [
      "Test loss: 0.3286457807091514\n",
      "Test accuracy: 0.899756669998169\n"
     ]
    }
   ],
   "source": [
    "plotResults(CNN_multi_3_history)\n",
    "modelAccuracy(CNN_multi_3, test_data_multi, test_label_multi)"
   ]
  },
  {
   "cell_type": "markdown",
   "metadata": {},
   "source": [
    "This model performs very well on the training data, and only slightly worse on the test data. The accuracy for the validation data points to the fact that the model may be over training on the training data, or that the validation data is skewed in some way. For instance this could be due to not enough validation samples, or that the validation data is over represented in a specific category."
   ]
  },
  {
   "cell_type": "code",
   "execution_count": 25,
   "metadata": {
    "colab": {},
    "colab_type": "code",
    "id": "sziR7vJalpRZ"
   },
   "outputs": [],
   "source": [
    "'''\n",
    "Model 4\n",
    "Similar to the above model but slightly refined\n",
    "Uses a SGD optimizer where learning rate can be adjusted\n",
    "'''\n",
    "\n",
    "from keras.optimizers import SGD\n",
    "opt = SGD(lr=0.10)\n",
    "\n",
    "CNN_multi_4 = models.Sequential()\n",
    "CNN_multi_4.add(layers.Conv1D(filters=32, kernel_size=16, activation='relu', input_shape=(7500,1)))\n",
    "#Increasing kernal size doesnt affect the model's performance\n",
    "CNN_multi_4.add(layers.MaxPooling1D(pool_size=2))\n",
    "CNN_multi_4.add(layers.Conv1D(filters=16, kernel_size=8, activation='relu'))\n",
    "#Increasing this layer's kernal size doesn't affect the model's performance\n",
    "CNN_multi_4.add(layers.Dropout(0.5))\n",
    "CNN_multi_4.add(layers.MaxPooling1D(pool_size=2))\n",
    "CNN_multi_4.add(layers.Flatten())\n",
    "CNN_multi_4.add(layers.Dense(50, activation='relu'))\n",
    "CNN_multi_4.add(layers.Dense(22, activation='softmax'))\n",
    "CNN_multi_4.compile(loss='binary_crossentropy', optimizer= opt, metrics=['accuracy'])\n",
    "#Using the SGD optimizer increased accuracy by about 3%"
   ]
  },
  {
   "cell_type": "code",
   "execution_count": 26,
   "metadata": {
    "colab": {
     "base_uri": "https://localhost:8080/",
     "height": 714
    },
    "colab_type": "code",
    "id": "y7vFygYLlyvd",
    "outputId": "451fef19-f2cf-454f-9dc5-d3d647ad0e2b"
   },
   "outputs": [
    {
     "name": "stdout",
     "output_type": "stream",
     "text": [
      "Train on 73980 samples, validate on 24660 samples\n",
      "Epoch 1/20\n",
      "73980/73980 [==============================] - 490s 7ms/step - loss: 1.3566 - accuracy: 0.9118 - val_loss: 1.3553 - val_accuracy: 0.9116\n",
      "Epoch 2/20\n",
      "73980/73980 [==============================] - 481s 7ms/step - loss: 1.3571 - accuracy: 0.9118 - val_loss: 1.3553 - val_accuracy: 0.9116\n",
      "Epoch 3/20\n",
      "73980/73980 [==============================] - 494s 7ms/step - loss: 1.3571 - accuracy: 0.9118 - val_loss: 1.3553 - val_accuracy: 0.9116\n",
      "Epoch 4/20\n",
      "73980/73980 [==============================] - 564s 8ms/step - loss: 1.3571 - accuracy: 0.9118 - val_loss: 1.3553 - val_accuracy: 0.9116\n",
      "Epoch 5/20\n",
      "73980/73980 [==============================] - 555s 8ms/step - loss: 1.3571 - accuracy: 0.9118 - val_loss: 1.3553 - val_accuracy: 0.9116\n",
      "Epoch 6/20\n",
      "73980/73980 [==============================] - 509s 7ms/step - loss: 1.3571 - accuracy: 0.9118 - val_loss: 1.3553 - val_accuracy: 0.9116\n",
      "Epoch 7/20\n",
      "73980/73980 [==============================] - 508s 7ms/step - loss: 1.3571 - accuracy: 0.9118 - val_loss: 1.3553 - val_accuracy: 0.9116\n",
      "Epoch 8/20\n",
      "73980/73980 [==============================] - 525s 7ms/step - loss: 1.3571 - accuracy: 0.9118 - val_loss: 1.3553 - val_accuracy: 0.9116\n",
      "Epoch 9/20\n",
      "73980/73980 [==============================] - 506s 7ms/step - loss: 1.3571 - accuracy: 0.9118 - val_loss: 1.3553 - val_accuracy: 0.9116\n",
      "Epoch 10/20\n",
      "73980/73980 [==============================] - 493s 7ms/step - loss: 1.3571 - accuracy: 0.9118 - val_loss: 1.3553 - val_accuracy: 0.9116\n",
      "Epoch 11/20\n",
      "73980/73980 [==============================] - 528s 7ms/step - loss: 1.3571 - accuracy: 0.9118 - val_loss: 1.3553 - val_accuracy: 0.9116\n",
      "Epoch 12/20\n",
      "73980/73980 [==============================] - 500s 7ms/step - loss: 1.3571 - accuracy: 0.9118 - val_loss: 1.3553 - val_accuracy: 0.9116\n",
      "Epoch 13/20\n",
      "73980/73980 [==============================] - 497s 7ms/step - loss: 1.3571 - accuracy: 0.9118 - val_loss: 1.3553 - val_accuracy: 0.9116\n",
      "Epoch 14/20\n",
      "73980/73980 [==============================] - 551s 7ms/step - loss: 1.3571 - accuracy: 0.9118 - val_loss: 1.3553 - val_accuracy: 0.9116\n",
      "Epoch 15/20\n",
      "73980/73980 [==============================] - 593s 8ms/step - loss: 1.3571 - accuracy: 0.9118 - val_loss: 1.3553 - val_accuracy: 0.9116\n",
      "Epoch 16/20\n",
      "73980/73980 [==============================] - 636s 9ms/step - loss: 1.3571 - accuracy: 0.9118 - val_loss: 1.3553 - val_accuracy: 0.9116\n",
      "Epoch 17/20\n",
      "73980/73980 [==============================] - 647s 9ms/step - loss: 1.3571 - accuracy: 0.9118 - val_loss: 1.3553 - val_accuracy: 0.9116\n",
      "Epoch 18/20\n",
      "73980/73980 [==============================] - 629s 8ms/step - loss: 1.3571 - accuracy: 0.9118 - val_loss: 1.3553 - val_accuracy: 0.9116\n",
      "Epoch 19/20\n",
      "73980/73980 [==============================] - 568s 8ms/step - loss: 1.3571 - accuracy: 0.9118 - val_loss: 1.3553 - val_accuracy: 0.9116\n",
      "Epoch 20/20\n",
      "73980/73980 [==============================] - 530s 7ms/step - loss: 1.3571 - accuracy: 0.9118 - val_loss: 1.3553 - val_accuracy: 0.9116\n"
     ]
    }
   ],
   "source": [
    "CNN_multi_4_history = CNN_multi_4.fit(train_data_multi, train_label_multi, \n",
    "                   validation_data=(val_data_multi ,val_label_multi),\n",
    "                   epochs=20, batch_size=128)"
   ]
  },
  {
   "cell_type": "code",
   "execution_count": 27,
   "metadata": {
    "colab": {
     "base_uri": "https://localhost:8080/",
     "height": 50
    },
    "colab_type": "code",
    "id": "Yo-RAZLJPmzD",
    "outputId": "7438cabb-e89b-4536-b772-66376f38f61c"
   },
   "outputs": [
    {
     "data": {
      "image/png": "[encoded data removed]",
      "text/plain": [
       "<Figure size 432x288 with 1 Axes>"
      ]
     },
     "metadata": {
      "needs_background": "light"
     },
     "output_type": "display_data"
    },
    {
     "data": {
      "image/png": "[encoded data removed]",
      "text/plain": [
       "<Figure size 432x288 with 1 Axes>"
      ]
     },
     "metadata": {
      "needs_background": "light"
     },
     "output_type": "display_data"
    },
    {
     "name": "stdout",
     "output_type": "stream",
     "text": [
      "Test loss: 1.3525545804556656\n",
      "Test accuracy: 0.9118121862411499\n"
     ]
    }
   ],
   "source": [
    "plotResults(CNN_multi_4_history)\n",
    "modelAccuracy(CNN_multi_4, test_data_multi, test_label_multi)"
   ]
  },
  {
   "cell_type": "markdown",
   "metadata": {},
   "source": [
    "This model also shows good results on all three different types of data. It reaches a very high accuracy quickly, but levels off at that point. Because of this behavior, this model may be inconsistent."
   ]
  },
  {
   "cell_type": "code",
   "execution_count": 28,
   "metadata": {
    "colab": {},
    "colab_type": "code",
    "id": "Pquxwqe9FWQu"
   },
   "outputs": [],
   "source": [
    "'''\n",
    "Model 5\n",
    "Uses the same layers as model 4, but with an adagrad optimizer\n",
    "Only 2 dense layers but with a larger filter and kernal size in convolution layers\n",
    "'''\n",
    "\n",
    "CNN_multi_5 = models.Sequential()\n",
    "CNN_multi_5.add(layers.Conv1D(filters=32, kernel_size=16, activation='relu', input_shape=(7500,1)))\n",
    "CNN_multi_5.add(layers.MaxPooling1D(pool_size=2))\n",
    "CNN_multi_5.add(layers.Conv1D(filters=16, kernel_size=8, activation='relu'))\n",
    "CNN_multi_5.add(layers.Dropout(0.5))\n",
    "CNN_multi_5.add(layers.MaxPooling1D(pool_size=2))\n",
    "CNN_multi_5.add(layers.Flatten())\n",
    "CNN_multi_5.add(layers.Dense(50, activation='relu'))\n",
    "CNN_multi_5.add(layers.Dense(22, activation='softmax'))\n",
    "CNN_multi_5.compile(loss='categorical_crossentropy', optimizer= 'adagrad', metrics=['accuracy'])"
   ]
  },
  {
   "cell_type": "code",
   "execution_count": 29,
   "metadata": {
    "colab": {
     "base_uri": "https://localhost:8080/",
     "height": 714
    },
    "colab_type": "code",
    "id": "z0CnrHdpI_re",
    "outputId": "bcbfab08-8e67-4d23-9af5-292168b17ec7"
   },
   "outputs": [
    {
     "name": "stdout",
     "output_type": "stream",
     "text": [
      "Train on 73980 samples, validate on 24660 samples\n",
      "Epoch 1/20\n",
      "73980/73980 [==============================] - 490s 7ms/step - loss: 5.2174 - accuracy: 0.4418 - val_loss: 1.1482 - val_accuracy: 0.6637\n",
      "Epoch 2/20\n",
      "73980/73980 [==============================] - 489s 7ms/step - loss: 0.9950 - accuracy: 0.6854 - val_loss: 0.7730 - val_accuracy: 0.7674\n",
      "Epoch 3/20\n",
      "73980/73980 [==============================] - 490s 7ms/step - loss: 0.7503 - accuracy: 0.7587 - val_loss: 0.6382 - val_accuracy: 0.8120\n",
      "Epoch 4/20\n",
      "73980/73980 [==============================] - 488s 7ms/step - loss: 0.6225 - accuracy: 0.7974 - val_loss: 0.5493 - val_accuracy: 0.8407\n",
      "Epoch 5/20\n",
      "73980/73980 [==============================] - 489s 7ms/step - loss: 0.5433 - accuracy: 0.8235 - val_loss: 0.4897 - val_accuracy: 0.8512\n",
      "Epoch 6/20\n",
      "73980/73980 [==============================] - 490s 7ms/step - loss: 0.4739 - accuracy: 0.8444 - val_loss: 0.4633 - val_accuracy: 0.8648\n",
      "Epoch 7/20\n",
      "73980/73980 [==============================] - 488s 7ms/step - loss: 0.4274 - accuracy: 0.8606 - val_loss: 0.4324 - val_accuracy: 0.8710\n",
      "Epoch 8/20\n",
      "73980/73980 [==============================] - 488s 7ms/step - loss: 0.3908 - accuracy: 0.8730 - val_loss: 0.4130 - val_accuracy: 0.8795\n",
      "Epoch 9/20\n",
      "73980/73980 [==============================] - 488s 7ms/step - loss: 0.3516 - accuracy: 0.8836 - val_loss: 0.3974 - val_accuracy: 0.8780\n",
      "Epoch 10/20\n",
      "73980/73980 [==============================] - 489s 7ms/step - loss: 0.3256 - accuracy: 0.8924 - val_loss: 0.4025 - val_accuracy: 0.8752\n",
      "Epoch 11/20\n",
      "73980/73980 [==============================] - 488s 7ms/step - loss: 0.2991 - accuracy: 0.9001 - val_loss: 0.3738 - val_accuracy: 0.8877\n",
      "Epoch 12/20\n",
      "73980/73980 [==============================] - 488s 7ms/step - loss: 0.2805 - accuracy: 0.9069 - val_loss: 0.3634 - val_accuracy: 0.8894\n",
      "Epoch 13/20\n",
      "73980/73980 [==============================] - 489s 7ms/step - loss: 0.2588 - accuracy: 0.9140 - val_loss: 0.3581 - val_accuracy: 0.8935\n",
      "Epoch 14/20\n",
      "73980/73980 [==============================] - 489s 7ms/step - loss: 0.2421 - accuracy: 0.9197 - val_loss: 0.3562 - val_accuracy: 0.8970\n",
      "Epoch 15/20\n",
      "73980/73980 [==============================] - 489s 7ms/step - loss: 0.2327 - accuracy: 0.9222 - val_loss: 0.3485 - val_accuracy: 0.8975\n",
      "Epoch 16/20\n",
      "73980/73980 [==============================] - 488s 7ms/step - loss: 0.2248 - accuracy: 0.9249 - val_loss: 0.3476 - val_accuracy: 0.8997\n",
      "Epoch 17/20\n",
      "73980/73980 [==============================] - 488s 7ms/step - loss: 0.2070 - accuracy: 0.9317 - val_loss: 0.3504 - val_accuracy: 0.8951\n",
      "Epoch 18/20\n",
      "73980/73980 [==============================] - 488s 7ms/step - loss: 0.2001 - accuracy: 0.9338 - val_loss: 0.3329 - val_accuracy: 0.9033\n",
      "Epoch 19/20\n",
      "73980/73980 [==============================] - 488s 7ms/step - loss: 0.1889 - accuracy: 0.9371 - val_loss: 0.3383 - val_accuracy: 0.9021\n",
      "Epoch 20/20\n",
      "73980/73980 [==============================] - 491s 7ms/step - loss: 0.1794 - accuracy: 0.9401 - val_loss: 0.3306 - val_accuracy: 0.9047\n"
     ]
    }
   ],
   "source": [
    "CNN_multi_5_history = CNN_multi_5.fit(train_data_multi, train_label_multi, \n",
    "                   validation_data=(val_data_multi, val_label_multi),\n",
    "                   epochs=20, batch_size=128)"
   ]
  },
  {
   "cell_type": "code",
   "execution_count": 30,
   "metadata": {
    "colab": {
     "base_uri": "https://localhost:8080/",
     "height": 51
    },
    "colab_type": "code",
    "id": "Pzzqx-CY8Q_w",
    "outputId": "d80544e5-4a93-44f8-83b3-83e23e1b38ed",
    "scrolled": true
   },
   "outputs": [
    {
     "data": {
      "image/png": "[encoded data removed]",
      "text/plain": [
       "<Figure size 432x288 with 1 Axes>"
      ]
     },
     "metadata": {
      "needs_background": "light"
     },
     "output_type": "display_data"
    },
    {
     "data": {
      "image/png": "[encoded data removed]",
      "text/plain": [
       "<Figure size 432x288 with 1 Axes>"
      ]
     },
     "metadata": {
      "needs_background": "light"
     },
     "output_type": "display_data"
    },
    {
     "name": "stdout",
     "output_type": "stream",
     "text": [
      "Test loss: 0.34639956838264757\n",
      "Test accuracy: 0.8975263833999634\n"
     ]
    }
   ],
   "source": [
    "plotResults(CNN_multi_5_history)\n",
    "modelAccuracy(CNN_multi_5, test_data_multi, test_label_multi)"
   ]
  },
  {
   "cell_type": "markdown",
   "metadata": {},
   "source": [
    "Another great model that performs well on all three data sets. "
   ]
  },
  {
   "cell_type": "code",
   "execution_count": 24,
   "metadata": {
    "colab": {},
    "colab_type": "code",
    "id": "PexQJFa1qirZ"
   },
   "outputs": [],
   "source": [
    "'''\n",
    "Model 6\n",
    "Further experimentation\n",
    "Smaller filter and kernel sizes on the 1D convolutional layers\n",
    "More dense layers of smaller sizes\n",
    "\n",
    "'''\n",
    "\n",
    "adagrad = keras.optimizers.Adagrad(lr=0.01)\n",
    "\n",
    "CNN_multi_6 = models.Sequential()\n",
    "CNN_multi_6.add(layers.Conv1D(filters=32, kernel_size=8, activation='relu', input_shape=(7500,1)))\n",
    "CNN_multi_6.add(layers.MaxPooling1D(pool_size=4))\n",
    "CNN_multi_6.add(layers.Conv1D(filters=16, kernel_size=4, activation='relu'))\n",
    "CNN_multi_6.add(layers.MaxPooling1D(pool_size=2))\n",
    "CNN_multi_6.add(layers.Dropout(0.5))\n",
    "CNN_multi_6.add(layers.Conv1D(filters=8, kernel_size=2, activation='relu'))\n",
    "CNN_multi_6.add(layers.MaxPooling1D(pool_size=2))\n",
    "CNN_multi_6.add(layers.Flatten())\n",
    "CNN_multi_6.add(layers.Dense(32, activation='relu'))\n",
    "CNN_multi_6.add(layers.Dense(16, activation='relu'))\n",
    "CNN_multi_6.add(layers.Dense(8, activation='relu'))\n",
    "CNN_multi_6.add(layers.Dense(4, activation='relu'))\n",
    "CNN_multi_6.add(layers.Dense(22, activation='softmax'))\n",
    "CNN_multi_6.compile(loss='categorical_crossentropy', optimizer= 'adagrad', metrics=['accuracy'])"
   ]
  },
  {
   "cell_type": "code",
   "execution_count": 25,
   "metadata": {
    "colab": {
     "base_uri": "https://localhost:8080/",
     "height": 649
    },
    "colab_type": "code",
    "id": "56Z1KV1U88wv",
    "outputId": "8e1b91af-08db-4239-87b9-42174bdc7d07"
   },
   "outputs": [
    {
     "name": "stdout",
     "output_type": "stream",
     "text": [
      "Train on 73980 samples, validate on 24660 samples\n",
      "Epoch 1/20\n",
      "73980/73980 [==============================] - 300s 4ms/step - loss: 2.9218 - accuracy: 0.1475 - val_loss: 2.8212 - val_accuracy: 0.1422\n",
      "Epoch 2/20\n",
      "73980/73980 [==============================] - 300s 4ms/step - loss: 2.7810 - accuracy: 0.1478 - val_loss: 2.7494 - val_accuracy: 0.1422\n",
      "Epoch 3/20\n",
      "73980/73980 [==============================] - 300s 4ms/step - loss: 2.7257 - accuracy: 0.1478 - val_loss: 2.7072 - val_accuracy: 0.1422\n",
      "Epoch 4/20\n",
      "73980/73980 [==============================] - 300s 4ms/step - loss: 2.6907 - accuracy: 0.1478 - val_loss: 2.6787 - val_accuracy: 0.1422\n",
      "Epoch 5/20\n",
      "73980/73980 [==============================] - 300s 4ms/step - loss: 2.6662 - accuracy: 0.1478 - val_loss: 2.6581 - val_accuracy: 0.1422\n",
      "Epoch 6/20\n",
      "73980/73980 [==============================] - 300s 4ms/step - loss: 2.6480 - accuracy: 0.1478 - val_loss: 2.6424 - val_accuracy: 0.1422\n",
      "Epoch 7/20\n",
      "73980/73980 [==============================] - 300s 4ms/step - loss: 2.6339 - accuracy: 0.1478 - val_loss: 2.6301 - val_accuracy: 0.1422\n",
      "Epoch 8/20\n",
      "73980/73980 [==============================] - 300s 4ms/step - loss: 2.6226 - accuracy: 0.1478 - val_loss: 2.6202 - val_accuracy: 0.1422\n",
      "Epoch 9/20\n",
      "73980/73980 [==============================] - 301s 4ms/step - loss: 2.6134 - accuracy: 0.1478 - val_loss: 2.6120 - val_accuracy: 0.1422\n",
      "Epoch 10/20\n",
      "73980/73980 [==============================] - 300s 4ms/step - loss: 2.6058 - accuracy: 0.1478 - val_loss: 2.6051 - val_accuracy: 0.1422\n",
      "Epoch 11/20\n",
      "73980/73980 [==============================] - 300s 4ms/step - loss: 2.5993 - accuracy: 0.1478 - val_loss: 2.5992 - val_accuracy: 0.1422\n",
      "Epoch 12/20\n",
      "73980/73980 [==============================] - 300s 4ms/step - loss: 2.5937 - accuracy: 0.1478 - val_loss: 2.5942 - val_accuracy: 0.1422\n",
      "Epoch 13/20\n",
      "73980/73980 [==============================] - 300s 4ms/step - loss: 2.5889 - accuracy: 0.1478 - val_loss: 2.5898 - val_accuracy: 0.1422\n",
      "Epoch 14/20\n",
      "73980/73980 [==============================] - 300s 4ms/step - loss: 2.5847 - accuracy: 0.1478 - val_loss: 2.5859 - val_accuracy: 0.1422\n",
      "Epoch 15/20\n",
      "73980/73980 [==============================] - 300s 4ms/step - loss: 2.5809 - accuracy: 0.1478 - val_loss: 2.5824 - val_accuracy: 0.1422\n",
      "Epoch 16/20\n",
      "73980/73980 [==============================] - 300s 4ms/step - loss: 2.5776 - accuracy: 0.1478 - val_loss: 2.5793 - val_accuracy: 0.1422\n",
      "Epoch 17/20\n",
      "73980/73980 [==============================] - 300s 4ms/step - loss: 2.5745 - accuracy: 0.1478 - val_loss: 2.5765 - val_accuracy: 0.1422\n",
      "Epoch 18/20\n",
      "73980/73980 [==============================] - 300s 4ms/step - loss: 2.5718 - accuracy: 0.1478 - val_loss: 2.5740 - val_accuracy: 0.1422\n",
      "Epoch 19/20\n",
      "73980/73980 [==============================] - 300s 4ms/step - loss: 2.5693 - accuracy: 0.1478 - val_loss: 2.5716 - val_accuracy: 0.1422\n",
      "Epoch 20/20\n",
      "73980/73980 [==============================] - 300s 4ms/step - loss: 2.5671 - accuracy: 0.1478 - val_loss: 2.5695 - val_accuracy: 0.1422\n"
     ]
    }
   ],
   "source": [
    "CNN_multi_6_history = CNN_multi_6.fit(train_data_multi, train_label_multi, \n",
    "                   validation_data=(val_data_multi , val_label_multi),\n",
    "                   epochs=20, batch_size=128)"
   ]
  },
  {
   "cell_type": "code",
   "execution_count": 26,
   "metadata": {
    "colab": {
     "base_uri": "https://localhost:8080/",
     "height": 527
    },
    "colab_type": "code",
    "id": "GHxYM46zy1xv",
    "outputId": "e09ec912-eea9-491d-9750-987b99773211"
   },
   "outputs": [
    {
     "data": {
      "image/png": "[encoded data removed]",
      "text/plain": [
       "<Figure size 432x288 with 1 Axes>"
      ]
     },
     "metadata": {
      "needs_background": "light"
     },
     "output_type": "display_data"
    },
    {
     "data": {
      "image/png": "[encoded data removed]",
      "text/plain": [
       "<Figure size 432x288 with 1 Axes>"
      ]
     },
     "metadata": {
      "needs_background": "light"
     },
     "output_type": "display_data"
    },
    {
     "name": "stdout",
     "output_type": "stream",
     "text": [
      "Test loss: 2.5718634696675817\n",
      "Test accuracy: 0.1484590470790863\n"
     ]
    }
   ],
   "source": [
    "plotResults(CNN_multi_6_history)\n",
    "modelAccuracy(CNN_multi_6, test_data_multi, test_label_multi)"
   ]
  },
  {
   "cell_type": "markdown",
   "metadata": {},
   "source": [
    "This model reaches a similar point as the other failed models and is unable to get above around 14.5% accuracy."
   ]
  },
  {
   "cell_type": "code",
   "execution_count": null,
   "metadata": {
    "colab": {},
    "colab_type": "code",
    "id": "0_6aAXCXt179"
   },
   "outputs": [],
   "source": [
    "'''\n",
    "#Code for saving the best model to a hard drive and printing out the more indepth and involved metrics\n",
    "\n",
    "CNN_multi_6.summary()\n",
    "\n",
    "keras.utils.plot_model(CNN_multi_7, show_layer_names=False, show_shapes=True, to_file='')\n",
    "\n",
    "model_data = CNN_multi_7.to_json()\n",
    "\n",
    "with open('filepath/model.json', 'w') as outputFile:\n",
    "  outputFile.write(model_data)\n",
    "  \n",
    "CNN_multi_7.save_weights('filepath/modelWeight.h5')\n",
    "\n",
    "with open('filepath/trainHistoryDict', 'wb') as file_pi:\n",
    "  pickle.dump(CNN_multi_7_history.history, file_pi)\n",
    "  \n",
    "model_history = CNN_multi_7_history.history\n",
    "\n",
    "# Loading metrics from the model\n",
    "with open('filepath/trainHistoryDict', 'rb') as f:\n",
    "  new_model_history = pickle.load(f)\n",
    "  \n",
    "# Printing final numbers\n",
    "model_metrics = new_model_history.keys()\n",
    "for i in modelMetrics:\n",
    "  print(i + \": {}\".format(new_model_history[i][-1]))\n",
    "  \n",
    "plotResults(CNN_multi_7_history)\n",
    "modelAccuracy(CNN_multi_7, test_data_multi, test_label_multi)\n",
    "'''"
   ]
  },
  {
   "cell_type": "markdown",
   "metadata": {},
   "source": [
    "This model combines a Long Short-Term Memory (LSTM) layer with the 1D CNN. It is unable to reach an adequate accuracy and quickly levels off. "
   ]
  },
  {
   "cell_type": "code",
   "execution_count": 19,
   "metadata": {
    "colab": {},
    "colab_type": "code",
    "id": "pjvjI1tbcuAc"
   },
   "outputs": [],
   "source": [
    "'''\n",
    "Model 7\n",
    "This is a model that combines CNN layers with LSTM layers\n",
    "'''\n",
    "\n",
    "from keras.optimizers import SGD\n",
    "opt = SGD(lr=0.10)\n",
    "\n",
    "LSTM_multi_1 = models.Sequential()\n",
    "LSTM_multi_1.add(layers.Conv1D(filters=32, kernel_size=16, activation='relu', input_shape=(7500,1)))\n",
    "LSTM_multi_1.add(layers.MaxPooling1D(pool_size=2))\n",
    "LSTM_multi_1.add(layers.Conv1D(filters=16, kernel_size=8, activation='relu'))\n",
    "LSTM_multi_1.add(layers.MaxPooling1D(pool_size=2))\n",
    "LSTM_multi_1.add(LSTM(10))\n",
    "LSTM_multi_1.add(layers.Dense(22, activation='softmax'))\n",
    "LSTM_multi_1.compile(loss='categorical_crossentropy', optimizer= opt, metrics=['accuracy'])"
   ]
  },
  {
   "cell_type": "code",
   "execution_count": 22,
   "metadata": {
    "colab": {
     "base_uri": "https://localhost:8080/",
     "height": 306
    },
    "colab_type": "code",
    "id": "Bpoc-nQXI1YY",
    "outputId": "fb038bf9-30b5-4375-b87a-e06cbec0bb53",
    "scrolled": true
   },
   "outputs": [
    {
     "name": "stdout",
     "output_type": "stream",
     "text": [
      "Train on 73980 samples, validate on 24660 samples\n",
      "Epoch 1/20\n",
      "73980/73980 [==============================] - 667s 9ms/step - loss: 2.6592 - accuracy: 0.1464 - val_loss: 2.5785 - val_accuracy: 0.1422\n",
      "Epoch 2/20\n",
      "73980/73980 [==============================] - 664s 9ms/step - loss: 2.5570 - accuracy: 0.1478 - val_loss: 2.5487 - val_accuracy: 0.1422\n",
      "Epoch 3/20\n",
      "73980/73980 [==============================] - 714s 10ms/step - loss: 2.5385 - accuracy: 0.1478 - val_loss: 2.5375 - val_accuracy: 0.1422\n",
      "Epoch 4/20\n",
      "73980/73980 [==============================] - 649s 9ms/step - loss: 2.5301 - accuracy: 0.1478 - val_loss: 2.5313 - val_accuracy: 0.1422\n",
      "Epoch 5/20\n",
      "73980/73980 [==============================] - 641s 9ms/step - loss: 2.5252 - accuracy: 0.1478 - val_loss: 2.5273 - val_accuracy: 0.1422\n",
      "Epoch 6/20\n",
      "73980/73980 [==============================] - 639s 9ms/step - loss: 2.5220 - accuracy: 0.1478 - val_loss: 2.5247 - val_accuracy: 0.1422\n",
      "Epoch 7/20\n",
      "73980/73980 [==============================] - 641s 9ms/step - loss: 2.5198 - accuracy: 0.1478 - val_loss: 2.5229 - val_accuracy: 0.1422\n",
      "Epoch 8/20\n",
      "73980/73980 [==============================] - 641s 9ms/step - loss: 2.5182 - accuracy: 0.1478 - val_loss: 2.5212 - val_accuracy: 0.1422\n",
      "Epoch 9/20\n",
      "73980/73980 [==============================] - 648s 9ms/step - loss: 2.5169 - accuracy: 0.1478 - val_loss: 2.5205 - val_accuracy: 0.1422\n",
      "Epoch 10/20\n",
      "73980/73980 [==============================] - 644s 9ms/step - loss: 2.5158 - accuracy: 0.1478 - val_loss: 2.5194 - val_accuracy: 0.1422\n",
      "Epoch 11/20\n",
      "73980/73980 [==============================] - 646s 9ms/step - loss: 2.5151 - accuracy: 0.1478 - val_loss: 2.5186 - val_accuracy: 0.1422\n",
      "Epoch 12/20\n",
      "73980/73980 [==============================] - 636s 9ms/step - loss: 2.5144 - accuracy: 0.1478 - val_loss: 2.5179 - val_accuracy: 0.1422\n",
      "Epoch 13/20\n",
      "73980/73980 [==============================] - 626s 8ms/step - loss: 2.5138 - accuracy: 0.1478 - val_loss: 2.5174 - val_accuracy: 0.1422\n",
      "Epoch 14/20\n",
      "73980/73980 [==============================] - 625s 8ms/step - loss: 2.5133 - accuracy: 0.1478 - val_loss: 2.5170 - val_accuracy: 0.1422\n",
      "Epoch 15/20\n",
      "73980/73980 [==============================] - 627s 8ms/step - loss: 2.5128 - accuracy: 0.1478 - val_loss: 2.5168 - val_accuracy: 0.1422\n",
      "Epoch 16/20\n",
      "73980/73980 [==============================] - 624s 8ms/step - loss: 2.5125 - accuracy: 0.1478 - val_loss: 2.5160 - val_accuracy: 0.1422\n",
      "Epoch 17/20\n",
      "73980/73980 [==============================] - 624s 8ms/step - loss: 2.5122 - accuracy: 0.1478 - val_loss: 2.5161 - val_accuracy: 0.1422\n",
      "Epoch 18/20\n",
      "73980/73980 [==============================] - 625s 8ms/step - loss: 2.5119 - accuracy: 0.1478 - val_loss: 2.5153 - val_accuracy: 0.1422\n",
      "Epoch 19/20\n",
      "73980/73980 [==============================] - 626s 8ms/step - loss: 2.5116 - accuracy: 0.1478 - val_loss: 2.5157 - val_accuracy: 0.1422\n",
      "Epoch 20/20\n",
      "73980/73980 [==============================] - 626s 8ms/step - loss: 2.5114 - accuracy: 0.1478 - val_loss: 2.5153 - val_accuracy: 0.1422\n"
     ]
    }
   ],
   "source": [
    "LSTM_multi_1_history = LSTM_multi_1.fit(train_data_multi, train_label_multi, \n",
    "                   validation_data=(val_data_multi ,val_label_multi),\n",
    "                   epochs=20, batch_size=256)"
   ]
  },
  {
   "cell_type": "code",
   "execution_count": 23,
   "metadata": {},
   "outputs": [
    {
     "data": {
      "image/png": "[encoded data removed]",
      "text/plain": [
       "<Figure size 432x288 with 1 Axes>"
      ]
     },
     "metadata": {
      "needs_background": "light"
     },
     "output_type": "display_data"
    },
    {
     "data": {
      "image/png": "[encoded data removed]",
      "text/plain": [
       "<Figure size 432x288 with 1 Axes>"
      ]
     },
     "metadata": {
      "needs_background": "light"
     },
     "output_type": "display_data"
    },
    {
     "name": "stdout",
     "output_type": "stream",
     "text": [
      "Test loss: 2.5173369812559327\n",
      "Test accuracy: 0.1484590470790863\n"
     ]
    }
   ],
   "source": [
    "plotResults(LSTM_multi_1_history)\n",
    "modelAccuracy(LSTM_multi_1, test_data_multi, test_label_multi)"
   ]
  },
  {
   "cell_type": "code",
   "execution_count": null,
   "metadata": {},
   "outputs": [],
   "source": []
  }
 ],
 "metadata": {
  "accelerator": "GPU",
  "colab": {
   "collapsed_sections": [],
   "machine_shape": "hm",
   "name": "SH_Test_Load_Data_and_Train_1D_Convnet.ipynb",
   "provenance": []
  },
  "kernelspec": {
   "display_name": "Python 3",
   "language": "python",
   "name": "python3"
  },
  "language_info": {
   "codemirror_mode": {
    "name": "ipython",
    "version": 3
   },
   "file_extension": ".py",
   "mimetype": "text/x-python",
   "name": "python",
   "nbconvert_exporter": "python",
   "pygments_lexer": "ipython3",
   "version": "3.7.4"
  }
 },
 "nbformat": 4,
 "nbformat_minor": 1
}
