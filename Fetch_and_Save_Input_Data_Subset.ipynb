{
 "cells": [
  {
   "cell_type": "markdown",
   "metadata": {
    "colab_type": "text",
    "id": "hArovgBatl2e"
   },
   "source": [
    "# Getting the Environment Setup"
   ]
  },
  {
   "cell_type": "code",
   "execution_count": 0,
   "metadata": {
    "colab": {},
    "colab_type": "code",
    "id": "KZEmpGZKnbyd"
   },
   "outputs": [],
   "source": [
    "# Import necessary Dependencies\n",
    "import numpy as np\n",
    "import xml.etree.ElementTree as ET\n",
    "from google.colab import drive\n",
    "import pickle\n",
    "import xml\n",
    "import os\n",
    "from sklearn.utils import shuffle\n",
    "from sklearn.model_selection import train_test_split\n",
    "\n",
    "import matplotlib\n",
    "import matplotlib.pyplot as plt"
   ]
  },
  {
   "cell_type": "markdown",
   "metadata": {
    "colab_type": "text",
    "id": "chKHv2pa3sqV"
   },
   "source": [
    "# User Parameters"
   ]
  },
  {
   "cell_type": "code",
   "execution_count": 0,
   "metadata": {
    "colab": {},
    "colab_type": "code",
    "id": "WKjUN8BD3vQv"
   },
   "outputs": [],
   "source": [
    "label_data_loc = \"/content/drive/My Drive/CSCI_5391/labels.pkl\"\n",
    "n_channels = 384\n",
    "\n",
    "# List of all the recordings you would like to include\n",
    "partial_names_of_interest = ['08-10-38_1', '10-25-04_5'] \n",
    "# partial_names_of_interest = ['08-10-38_1', '09-11-15_3', '09-44-15_4', '10-25-04_5'] \n"
   ]
  },
  {
   "cell_type": "markdown",
   "metadata": {
    "colab_type": "text",
    "id": "6VSYt8HXovdH"
   },
   "source": [
    "# Get Access to Data Files from Google Drive"
   ]
  },
  {
   "cell_type": "code",
   "execution_count": 0,
   "metadata": {
    "colab": {
     "base_uri": "https://localhost:8080/",
     "height": 887
    },
    "colab_type": "code",
    "id": "RWSJpsyKqHjH",
    "outputId": "5d636f65-a5f5-48e0-e219-e1f90477da19"
   },
   "outputs": [
    {
     "name": "stdout",
     "output_type": "stream",
     "text": [
      "Drive already mounted at /content/drive; to attempt to forcibly remount, call drive.mount(\"/content/drive\", force_remount=True).\n",
      " data_compilations\t\t M310016_2017-06-15_10-25-04_5\n",
      " experiment1_103-1_0.dat\t M310016_2017-06-15_10-52-16_6\n",
      " getting_channel_numbers.ipynb\t M310016_2017-06-15_11-21-18_7\n",
      " labels.pkl\t\t\t M310016_2017-06-15_11-51-37_8\n",
      " M310016_2017-06-14_09-37-02\t pics_for_dan\n",
      " M310016_2017-06-15_08-10-38_1\t settings.xml\n",
      " M310016_2017-06-15_09-11-15_3\t'Untitled document.gdoc'\n",
      " M310016_2017-06-15_09-44-15_4\t'Untitled presentation.gslides'\n",
      "experiment1_103-0_0.dat\n",
      "experiment1_103-1_0.dat\n",
      "experiment1_all_channels_0.events\n",
      "experiment1_messages_0.events\n",
      "first_10m_test_input_3s_lfp_above_in.npy\n",
      "first_10m_test_input_3s_lfp.npy\n",
      "first_10m_test_input_3s.npy\n",
      "first_10m_test_labels_3s_lfp_above_in.npy\n",
      "first_10m_test_labels_3s_lfp.npy\n",
      "first_10m_test_labels_3s.npy\n",
      "first_10m_train_input_3s_lfp_above_in.npy\n",
      "first_10m_train_input_3s_lfp.npy\n",
      "first_10m_train_input_3s.npy\n",
      "first_10m_train_labels_3s_lfp_above_in.npy\n",
      "first_10m_train_labels_3s_lfp.npy\n",
      "first_10m_train_labels_3s.npy\n",
      "first_10m_val_input_3s_lfp_above_in.npy\n",
      "first_10m_val_labels_3s_lfp_above_in.npy\n",
      "first_180s_of_data_labels_lfp.npy\n",
      "first_180s_of_data_labels.npy\n",
      "first_180s_of_data_lfp.npy\n",
      "first_180s_of_data.npy\n",
      "first_180s_test_input.npy\n",
      "first_180s_test_labels.npy\n",
      "first_180s_train_input.npy\n",
      "first_180s_train_labels.npy\n",
      "first_500s_of_data.npy\n",
      "first_5m_of_data_labels_lfp.npy\n",
      "first_5m_of_data_lfp.npy\n",
      "first_5m_test_input_3s_lfp_multi_region.npy\n",
      "first_5m_test_labels_3s_lfp_multi_region.npy\n",
      "first_5m_train_input_3s_lfp_multi_region.npy\n",
      "first_5m_train_labels_3s_lfp_multi_region.npy\n",
      "first_5m_val_input_3s_lfp_multi_region.npy\n",
      "first_5m_val_labels_3s_lfp_multi_region.npy\n",
      "neuropix_250_epochs.h5\n",
      "neuropix_model.h5\n",
      "numpy_data\n",
      "settings.xml\n",
      "test_array.npy\n",
      "weights_best.hdf5\n"
     ]
    }
   ],
   "source": [
    "# Load the data from google drive\n",
    "drive.mount('/content/drive')\n",
    "root_path = '/content/drive/My Drive/CSCI_5391/'  #change dir to your project folder\n",
    "\n",
    "# List contents of the folder holding out data (make sure the data is there)\n",
    "!ls \"/content/drive/My Drive/CSCI_5391\"\n",
    "!ls \"/content/drive/My Drive/CSCI_5391/M310016_2017-06-15_08-10-38_1\"\n"
   ]
  },
  {
   "cell_type": "code",
   "execution_count": 0,
   "metadata": {
    "colab": {
     "base_uri": "https://localhost:8080/",
     "height": 153
    },
    "colab_type": "code",
    "id": "QDuUsZMy35Lt",
    "outputId": "73e4c5a5-9305-4d7d-e8c9-dbcb0b763297"
   },
   "outputs": [
    {
     "name": "stdout",
     "output_type": "stream",
     "text": [
      " data_compilations\t\t M310016_2017-06-15_10-25-04_5\n",
      " experiment1_103-1_0.dat\t M310016_2017-06-15_10-52-16_6\n",
      " getting_channel_numbers.ipynb\t M310016_2017-06-15_11-21-18_7\n",
      " labels.pkl\t\t\t M310016_2017-06-15_11-51-37_8\n",
      " M310016_2017-06-14_09-37-02\t pics_for_dan\n",
      " M310016_2017-06-15_08-10-38_1\t settings.xml\n",
      " M310016_2017-06-15_09-11-15_3\t'Untitled document.gdoc'\n",
      " M310016_2017-06-15_09-44-15_4\t'Untitled presentation.gslides'\n"
     ]
    }
   ],
   "source": [
    "!ls \"/content/drive/My Drive/CSCI_5391\""
   ]
  },
  {
   "cell_type": "markdown",
   "metadata": {
    "colab_type": "text",
    "id": "jqU0hjD-E7Pe"
   },
   "source": [
    "# Get the region labels for every recording site\n",
    "\n",
    "Here we generate a dictionary that holds the labels of all the sites recorded from in each session. The key to each dictionary entry is the unique partial file name in each recording (the time of the recording)"
   ]
  },
  {
   "cell_type": "code",
   "execution_count": 0,
   "metadata": {
    "colab": {
     "base_uri": "https://localhost:8080/",
     "height": 187
    },
    "colab_type": "code",
    "id": "mWigpyk95uML",
    "outputId": "0d92303d-f028-4da4-a0ca-cb508980d240"
   },
   "outputs": [
    {
     "name": "stdout",
     "output_type": "stream",
     "text": [
      "Generating list of regions\n",
      "/Volumes/SD1/DanD/M310016/localization/M310016_2017-06-15_10-52-16_6\n",
      "/Volumes/SD1/DanD/M310016/localization/M310016_2017-06-15_09-11-15_3\n",
      "/Volumes/SD1/DanD/M310016/localization/M310016_2017-06-15_08-43-17_2\n",
      "/Volumes/SD1/DanD/M310016/localization/M310016_2017-06-15_09-55-55_4b\n",
      "/Volumes/SD1/DanD/M310016/localization/M310016_2017-06-15_11-21-18_7\n",
      "/Volumes/SD1/DanD/M310016/localization/M310016_2017-06-15_11-51-37_8\n",
      "/Volumes/SD1/DanD/M310016/localization/M310016_2017-06-15_09-44-15_4\n",
      "/Volumes/SD1/DanD/M310016/localization/M310016_2017-06-15_10-25-04_5\n",
      "/Volumes/SD1/DanD/M310016/localization/M310016_2017-06-15_08-10-38_1\n"
     ]
    }
   ],
   "source": [
    "#Generate a list of all regions recorded from\n",
    "print(\"Generating list of regions\")\n",
    "regions_list = []\n",
    "label_data = pickle.load(open(label_data_loc,\"rb\"))\n",
    "for recording in label_data:\n",
    "  if not isinstance(recording, str):\n",
    "    for area in label_data[recording]:\n",
    "      if area.lower() not in regions_list:\n",
    "        regions_list.append(area.lower())\n",
    "regions_list = sorted(regions_list)\n",
    "num_regions = len(regions_list)\n",
    "\n",
    "# Categorize every site in current recording.\n",
    "empty_label_set = np.zeros((n_channels, num_regions), dtype=bool)\n",
    "all_site_categories = np.copy(empty_label_set)\n",
    "all_site_labels = {}\n",
    "for recording in label_data:\n",
    "  if not isinstance(recording, str):\n",
    "    string_output = recording.decode(\"utf-8\")\n",
    "    print(string_output)\n",
    "    for partial_name in partial_names_of_interest:\n",
    "      if partial_name in string_output:\n",
    "        all_site_labels[partial_name] = np.copy(empty_label_set)\n",
    "        for area in label_data[recording]:\n",
    "          sites_in_area = []\n",
    "          this_recording_area = label_data[recording][area]\n",
    "          range_start = this_recording_area[0]\n",
    "          range_end = this_recording_area[1] + 1\n",
    "          region_index = regions_list.index(area.lower())\n",
    "          for channel in range(range_start, range_end):\n",
    "            sites_in_area.append(channel)\n",
    "            all_site_categories[channel][region_index] = True\n",
    "            all_site_labels[partial_name][channel][region_index] = True"
   ]
  },
  {
   "cell_type": "markdown",
   "metadata": {
    "colab_type": "text",
    "id": "vdnVDfzA_KYW"
   },
   "source": [
    "# Some Verification Tests\n",
    "\n",
    "Wasn't sure if I was loading the right thing. Here are some checks that I did."
   ]
  },
  {
   "cell_type": "code",
   "execution_count": 0,
   "metadata": {
    "colab": {
     "base_uri": "https://localhost:8080/",
     "height": 51
    },
    "colab_type": "code",
    "id": "gywRdIcqAF1P",
    "outputId": "fc0c0637-3fdf-437a-b168-9600246624dc"
   },
   "outputs": [
    {
     "name": "stdout",
     "output_type": "stream",
     "text": [
      "Session 10-25-04_5 had \t384 total labels\n",
      "Session 08-10-38_1 had \t384 total labels\n"
     ]
    }
   ],
   "source": [
    "for session_id, recording_labels in all_site_labels.items():\n",
    "  total_labeled_sites = np.sum(recording_labels)\n",
    "  print(\"Session \" + session_id + \" had \\t\" + str(total_labeled_sites) + \" total labels\")"
   ]
  },
  {
   "cell_type": "markdown",
   "metadata": {
    "colab_type": "text",
    "id": "an7Of-2YNvn7"
   },
   "source": [
    "# Visualize Distribution of Recording Sites Throughout the Brain\n",
    "\n",
    "We do not have an equal amount of representaiton from each recording site throughout the brain. Here we plot out their distribution so that we can now how much data we have for each region.\n",
    "\n",
    "**Possibly flag the regions that are picked up in more than one recording. These provide a more robust idea of the training data**"
   ]
  },
  {
   "cell_type": "code",
   "execution_count": 0,
   "metadata": {
    "colab": {
     "base_uri": "https://localhost:8080/",
     "height": 476
    },
    "colab_type": "code",
    "id": "hi7ZILUGE0pE",
    "outputId": "2602d758-53f8-449a-95c4-202124b35d92"
   },
   "outputs": [
    {
     "data": {
      "image/png": "[encoded data removed]",
      "text/plain": [
       "<Figure size 1152x288 with 1 Axes>"
      ]
     },
     "metadata": {
      "tags": []
     },
     "output_type": "display_data"
    }
   ],
   "source": [
    "x = np.arange(len(regions_list)) - 0.5 # the label locations\n",
    "width = 0.55/len(partial_names_of_interest)  # the width of the bars\n",
    "\n",
    "bar_locs = np.linspace(-0.25, 0.25, len(partial_names_of_interest))\n",
    "\n",
    "# Set up figure \n",
    "fig, ax = plt.subplots()\n",
    "fig.set_figwidth(16)\n",
    "fig.set_figheight(4)\n",
    "\n",
    "rects = [None] * len(partial_names_of_interest)\n",
    "index = 0\n",
    "for session_id, recording_labels in all_site_labels.items():\n",
    "  total_labeled_sites = np.sum(recording_labels, axis=0)\n",
    "  rects[index] = ax.bar(x + bar_locs[index], total_labeled_sites, width, label=session_id)\n",
    "  index += 1\n",
    "\n",
    "# Add some text for labels, title and custom x-axis tick labels, etc.\n",
    "ax.set_ylabel('Sites')\n",
    "ax.set_title('Site count in each region across recordings')\n",
    "ax.set_xticks(x)\n",
    "ax.set_xticklabels(regions_list)\n",
    "ax.legend()\n",
    "\n",
    "fig.tight_layout()\n",
    "plt.xticks(rotation=80)\n",
    "ax.tick_params(axis='x', labelsize=11)\n",
    "plt.grid(True, axis='y')\n",
    "plt.show()"
   ]
  },
  {
   "cell_type": "markdown",
   "metadata": {
    "colab_type": "text",
    "id": "Oy5Goelw1TjA"
   },
   "source": [
    "# Grab the sites of interest and accompanying labels\n",
    "\n",
    "These will be stored in a dictionary"
   ]
  },
  {
   "cell_type": "code",
   "execution_count": 0,
   "metadata": {
    "colab": {
     "base_uri": "https://localhost:8080/",
     "height": 85
    },
    "colab_type": "code",
    "id": "DXsE4yf6u1Ng",
    "outputId": "ac898abb-de59-42df-8d11-f68fcbb9c1d2"
   },
   "outputs": [
    {
     "name": "stdout",
     "output_type": "stream",
     "text": [
      "Found 32 above sites in session 10-25-04_5\n",
      "Found 77 primary motor cortex sites in session 10-25-04_5\n",
      "Found 33 above sites in session 08-10-38_1\n",
      "Found 149 primary motor cortex sites in session 08-10-38_1\n"
     ]
    }
   ],
   "source": [
    "sites_of_interest_all = {}\n",
    "labels_of_interest = {}\n",
    "\n",
    "regions_of_interest = [0, 15] # for above vs in\n",
    "# regions_of_interest = [0, 3, 5, 7, 10, 11, 12, 14, 15, 16, 17, 18, 19, 20, 21]\n",
    "min_sites_in_region = 20\n",
    "max_sites_in_region = 20\n",
    "\n",
    "for session_id, recording_labels in all_site_labels.items():\n",
    "  sites_of_interest_all[session_id] = []\n",
    "  brain_regions_counts = np.sum(recording_labels, axis=0)\n",
    "  for region_of_interest in regions_of_interest:\n",
    "    count_in_reg = brain_regions_counts[region_of_interest]\n",
    "    if count_in_reg >= min_sites_in_region:\n",
    "      current_reg = regions_list[region_of_interest]\n",
    "      print(\"Found \" + str(count_in_reg) + \" \" + current_reg + \" sites in session \" + session_id)\n",
    "      sites_in_region = np.argwhere(recording_labels[:,region_of_interest] == True)\n",
    "      if sites_in_region.shape[0] > max_sites_in_region:\n",
    "        sites_in_region_subset = np.random.choice(sites_in_region[:,0], size=max_sites_in_region, replace=False)\n",
    "      else:\n",
    "        sites_in_region_subset = np.copy(sites_in_region)\n",
    "      for site in sites_in_region_subset:\n",
    "        sites_of_interest_all[session_id].append(int(site))\n",
    "    \n",
    "  # Generate label\n",
    "  labels_of_interest[session_id] = recording_labels[sites_of_interest_all[session_id]]"
   ]
  },
  {
   "cell_type": "markdown",
   "metadata": {
    "colab_type": "text",
    "id": "YIQ-28_SFd9e"
   },
   "source": [
    "# Define Function that will be used for getting data"
   ]
  },
  {
   "cell_type": "code",
   "execution_count": 0,
   "metadata": {
    "colab": {},
    "colab_type": "code",
    "id": "xnYJ6OIsspNM"
   },
   "outputs": [],
   "source": [
    "def get_chunk(mm,start,end,channels,sampling_rate=30000):\n",
    "  chunk = mm[int(start*sampling_rate*int(channels)):int(np.floor(end*sampling_rate*(int(channels))))]\n",
    "  a = np.reshape(chunk,(int(channels),-1),order='F')  * 0.195\n",
    "  return a\n",
    "\n",
    "def normalize_chunk(chunk):\n",
    "  \"\"\"Normalize each channel of neuropix data to have a min of 0 and max of 1\"\"\"\n",
    "  \n",
    "  # Get number of channels\n",
    "  n_channels = chunk.shape[0]\n",
    "\n",
    "  # Bring minimum to zero\n",
    "  each_row_min = np.zeros((n_channels, 1))\n",
    "  each_row_min[:,0] = chunk.min(axis=1)\n",
    "  chunk_zero_min = np.copy(chunk)\n",
    "  chunk_zero_min = chunk_zero_min - each_row_min\n",
    "\n",
    "  # Bring maximum to one\n",
    "  each_row_max = np.zeros((n_channels, 1))\n",
    "  each_row_max[:,0] = chunk_zero_min.max(axis=1)\n",
    "  chunk_one_max = np.copy(chunk_zero_min)\n",
    "  # chunk_one_max = chunk_one_max / each_row_max\n",
    "\n",
    "  return chunk_one_max\n",
    "\n",
    "def etree_to_dict(t):\n",
    "    d = {t.tag : list(map(etree_to_dict, t.getchildren()))}\n",
    "    d.update(('@' + k, v) for k, v in t.attrib.items())\n",
    "    d['text'] = t.text\n",
    "    return d\n",
    "\n",
    "def get_channel_count(path,from_channel_map = True,from_templates=False):\n",
    "    d = etree_to_dict(ET.parse(os.path.join(path,'settings.xml')).getroot())\n",
    "    chs =0\n",
    "    if from_templates:\n",
    "        return np.load(open(os.path.join(path,'templates.npy'))).shape[-1]\n",
    "    if d['SETTINGS'][1]['SIGNALCHAIN'][0]['@name'] == 'Sources/Neuropix':\n",
    "        for info in d['SETTINGS'][1]['SIGNALCHAIN'][0]['PROCESSOR'][:385]:\n",
    "            if 'CHANNEL' in info.keys():\n",
    "                if info['CHANNEL'][0]['@record'] == '1':\n",
    "                    chs +=1\n",
    "        return chs\n",
    "    if d['SETTINGS'][1]['SIGNALCHAIN'][0]['@name'] == 'Sources/Rhythm FPGA':\n",
    "        if from_channel_map:\n",
    "            for nm in d['SETTINGS'][1]['SIGNALCHAIN']:\n",
    "                name = nm['@name']\n",
    "                if name == 'Filters/Channel Map':\n",
    "                    #chs = np.shape(d['SETTINGS'][1]['SIGNALCHAIN'][0]['PROCESSOR'][0]['CHANNEL_INFO'])[0]\n",
    "                    for info in nm['PROCESSOR']:\n",
    "                        if 'CHANNEL' in info.keys():\n",
    "                            if info['CHANNEL'][0]['@record'] == '1':\n",
    "                                chs +=1\n",
    "        else:\n",
    "            for info in d['SETTINGS'][1]['SIGNALCHAIN'][0]['PROCESSOR'][:385]:\n",
    "                if 'CHANNEL' in info.keys():\n",
    "                    if info['CHANNEL'][0]['@record'] == '1':\n",
    "                        chs +=1\n",
    "        return chs\n"
   ]
  },
  {
   "cell_type": "markdown",
   "metadata": {
    "colab_type": "text",
    "id": "ftoejNpdFjCf"
   },
   "source": [
    "\n",
    "# Load Neuropixel Data\n",
    "And prepare accompanying labels"
   ]
  },
  {
   "cell_type": "markdown",
   "metadata": {
    "colab_type": "text",
    "id": "3veVyUbS1pVH"
   },
   "source": [
    "# Fetch LFP data from multiple recordings"
   ]
  },
  {
   "cell_type": "code",
   "execution_count": 0,
   "metadata": {
    "colab": {
     "base_uri": "https://localhost:8080/",
     "height": 224
    },
    "colab_type": "code",
    "id": "txW9E_To1z8R",
    "outputId": "17d82f37-350e-41d2-d74d-cec6579a2cb9"
   },
   "outputs": [
    {
     "name": "stdout",
     "output_type": "stream",
     "text": [
      "{'08-10-38_1': '/content/drive/My Drive/CSCI_5391/M310016_2017-06-15_08-10-38_1/experiment1_103-1_0.dat', '10-25-04_5': '/content/drive/My Drive/CSCI_5391/M310016_2017-06-15_10-25-04_5/experiment1_103-1_0.dat'}\n",
      "Session: 10-25-04_5\n",
      "40\n",
      "[367, 383, 381, 382, 354, 376, 368, 355, 361, 369, 352, 360, 365, 374, 372, 364, 359, 378, 356, 358, 280, 327, 313, 301, 318, 345, 284, 329, 331, 302, 299, 319, 316, 303, 346, 283, 348, 321, 338, 290]\n",
      "Session: 08-10-38_1\n",
      "40\n",
      "[372, 378, 377, 358, 381, 361, 366, 370, 363, 364, 352, 374, 383, 354, 368, 359, 360, 351, 365, 355, 238, 217, 237, 274, 310, 210, 290, 272, 240, 243, 277, 332, 246, 230, 235, 215, 209, 311, 247, 275]\n",
      "08-10-38_1\n",
      "0\n",
      "10-25-04_5\n",
      "40\n"
     ]
    }
   ],
   "source": [
    "#Create memory maps\n",
    "data_paths = {}\n",
    "for unique_string in partial_names_of_interest:\n",
    "  data_paths[unique_string] = '/content/drive/My Drive/CSCI_5391/M310016_2017-06-15_' + unique_string + '/experiment1_103-1_0.dat'\n",
    "print(data_paths)    \n",
    "\n",
    "memory_maps = {}\n",
    "row_of_interest = {}\n",
    "number_of_rows = 0\n",
    "for session_id, recording_labels in all_site_labels.items():\n",
    "  print(\"Session: \" + session_id)\n",
    "  print(np.sum(labels_of_interest[session_id]))\n",
    "  row_of_interest[session_id] = np.sum(labels_of_interest[session_id])\n",
    "  number_of_rows += np.sum(labels_of_interest[session_id])\n",
    "  memory_maps[session_id] = np.memmap(data_paths[session_id], dtype=np.int16, mode='r')\n",
    "  print(sites_of_interest_all[session_id])\n",
    "\n",
    "counter_starts = {}\n",
    "counter_sum = 0\n",
    "for session_id in partial_names_of_interest:\n",
    "  counter_starts[session_id] = counter_sum\n",
    "  counter_sum += row_of_interest[session_id]\n",
    "  print(session_id)\n",
    "  print(counter_starts[session_id])"
   ]
  },
  {
   "cell_type": "code",
   "execution_count": 0,
   "metadata": {
    "colab": {
     "base_uri": "https://localhost:8080/",
     "height": 1000
    },
    "colab_type": "code",
    "id": "QMEWxniL1sS7",
    "outputId": "729f8988-8f55-4dc0-aafc-58d0dfb403af"
   },
   "outputs": [
    {
     "name": "stdout",
     "output_type": "stream",
     "text": [
      "Preallocating arrays\n",
      "(8000, 7500)\n",
      "(8000, 22)\n",
      "Loading 08-10-38_1\n",
      "Loaded section 0\n",
      "Loaded section 1\n",
      "Loaded section 2\n",
      "Loaded section 3\n",
      "Loaded section 4\n",
      "Loaded section 5\n",
      "Loaded section 6\n",
      "Loaded section 7\n",
      "Loaded section 8\n",
      "Loaded section 9\n",
      "Loaded section 10\n",
      "Loaded section 11\n",
      "Loaded section 12\n",
      "Loaded section 13\n",
      "Loaded section 14\n",
      "Loaded section 15\n",
      "Loaded section 16\n",
      "Loaded section 17\n",
      "Loaded section 18\n",
      "Loaded section 19\n",
      "Loaded section 20\n",
      "Loaded section 21\n",
      "Loaded section 22\n",
      "Loaded section 23\n",
      "Loaded section 24\n",
      "Loaded section 25\n",
      "Loaded section 26\n",
      "Loaded section 27\n",
      "Loaded section 28\n",
      "Loaded section 29\n",
      "Loaded section 30\n",
      "Loaded section 31\n",
      "Loaded section 32\n",
      "Loaded section 33\n",
      "Loaded section 34\n",
      "Loaded section 35\n",
      "Loaded section 36\n",
      "Loaded section 37\n",
      "Loaded section 38\n",
      "Loaded section 39\n",
      "Loaded section 40\n",
      "Loaded section 41\n",
      "Loaded section 42\n",
      "Loaded section 43\n",
      "Loaded section 44\n",
      "Loaded section 45\n",
      "Loaded section 46\n",
      "Loaded section 47\n",
      "Loaded section 48\n",
      "Loaded section 49\n",
      "Loaded section 50\n",
      "Loaded section 51\n",
      "Loaded section 52\n",
      "Loaded section 53\n",
      "Loaded section 54\n",
      "Loaded section 55\n",
      "Loaded section 56\n",
      "Loaded section 57\n",
      "Loaded section 58\n",
      "Loaded section 59\n",
      "Loaded section 60\n",
      "Loaded section 61\n",
      "Loaded section 62\n",
      "Loaded section 63\n",
      "Loaded section 64\n",
      "Loaded section 65\n",
      "Loaded section 66\n",
      "Loaded section 67\n",
      "Loaded section 68\n",
      "Loaded section 69\n",
      "Loaded section 70\n",
      "Loaded section 71\n",
      "Loaded section 72\n",
      "Loaded section 73\n",
      "Loaded section 74\n",
      "Loaded section 75\n",
      "Loaded section 76\n",
      "Loaded section 77\n",
      "Loaded section 78\n",
      "Loaded section 79\n",
      "Loaded section 80\n",
      "Loaded section 81\n",
      "Loaded section 82\n",
      "Loaded section 83\n",
      "Loaded section 84\n",
      "Loaded section 85\n",
      "Loaded section 86\n",
      "Loaded section 87\n",
      "Loaded section 88\n",
      "Loaded section 89\n",
      "Loaded section 90\n",
      "Loaded section 91\n",
      "Loaded section 92\n",
      "Loaded section 93\n",
      "Loaded section 94\n",
      "Loaded section 95\n",
      "Loaded section 96\n",
      "Loaded section 97\n",
      "Loaded section 98\n",
      "Loaded section 99\n",
      "Loading 10-25-04_5\n",
      "Loaded section 0\n",
      "Loaded section 1\n",
      "Loaded section 2\n",
      "Loaded section 3\n",
      "Loaded section 4\n",
      "Loaded section 5\n",
      "Loaded section 6\n",
      "Loaded section 7\n",
      "Loaded section 8\n",
      "Loaded section 9\n",
      "Loaded section 10\n",
      "Loaded section 11\n",
      "Loaded section 12\n",
      "Loaded section 13\n",
      "Loaded section 14\n",
      "Loaded section 15\n",
      "Loaded section 16\n",
      "Loaded section 17\n",
      "Loaded section 18\n",
      "Loaded section 19\n",
      "Loaded section 20\n",
      "Loaded section 21\n",
      "Loaded section 22\n",
      "Loaded section 23\n",
      "Loaded section 24\n",
      "Loaded section 25\n",
      "Loaded section 26\n",
      "Loaded section 27\n",
      "Loaded section 28\n",
      "Loaded section 29\n",
      "Loaded section 30\n",
      "Loaded section 31\n",
      "Loaded section 32\n",
      "Loaded section 33\n",
      "Loaded section 34\n",
      "Loaded section 35\n",
      "Loaded section 36\n",
      "Loaded section 37\n",
      "Loaded section 38\n",
      "Loaded section 39\n",
      "Loaded section 40\n",
      "Loaded section 41\n",
      "Loaded section 42\n",
      "Loaded section 43\n",
      "Loaded section 44\n",
      "Loaded section 45\n",
      "Loaded section 46\n",
      "Loaded section 47\n",
      "Loaded section 48\n",
      "Loaded section 49\n",
      "Loaded section 50\n",
      "Loaded section 51\n",
      "Loaded section 52\n",
      "Loaded section 53\n",
      "Loaded section 54\n",
      "Loaded section 55\n",
      "Loaded section 56\n",
      "Loaded section 57\n",
      "Loaded section 58\n",
      "Loaded section 59\n",
      "Loaded section 60\n",
      "Loaded section 61\n",
      "Loaded section 62\n",
      "Loaded section 63\n",
      "Loaded section 64\n",
      "Loaded section 65\n",
      "Loaded section 66\n",
      "Loaded section 67\n",
      "Loaded section 68\n",
      "Loaded section 69\n",
      "Loaded section 70\n",
      "Loaded section 71\n",
      "Loaded section 72\n",
      "Loaded section 73\n",
      "Loaded section 74\n",
      "Loaded section 75\n",
      "Loaded section 76\n",
      "Loaded section 77\n",
      "Loaded section 78\n",
      "Loaded section 79\n",
      "Loaded section 80\n",
      "Loaded section 81\n",
      "Loaded section 82\n",
      "Loaded section 83\n",
      "Loaded section 84\n",
      "Loaded section 85\n",
      "Loaded section 86\n",
      "Loaded section 87\n",
      "Loaded section 88\n",
      "Loaded section 89\n",
      "Loaded section 90\n",
      "Loaded section 91\n",
      "Loaded section 92\n",
      "Loaded section 93\n",
      "Loaded section 94\n",
      "Loaded section 95\n",
      "Loaded section 96\n",
      "Loaded section 97\n",
      "Loaded section 98\n",
      "Loaded section 99\n",
      "8040 datapoints loaded\n",
      "60000000\n"
     ]
    }
   ],
   "source": [
    "# User Parameters\n",
    "n_channels = 384\n",
    "n_channels_of_interest = number_of_rows\n",
    "seconds = 3\n",
    "sampling_rate = 2500\n",
    "n_sections = 100\n",
    "\n",
    "# Pre-allocate space in memory for dataset\n",
    "print(\"Preallocating arrays\")\n",
    "n_rows = n_sections*n_channels_of_interest\n",
    "n_cols = seconds*sampling_rate\n",
    "input_dataset_lfp = np.empty((n_rows, n_cols), dtype=np.float16)\n",
    "label_dataset_lfp = np.empty((n_rows, len(regions_list)), dtype=np.float16)\n",
    "print(input_dataset_lfp.shape)\n",
    "print(label_dataset_lfp.shape)\n",
    "\n",
    "for recording in partial_names_of_interest:\n",
    "  # # Load data into preallocated arrays\n",
    "  print(\"Loading \" + str(recording))\n",
    "  counter = counter_starts[recording]\n",
    "  time_start = 0\n",
    "  current_data_chunk = np.zeros((n_channels,n_cols), dtype=np.float16)\n",
    "  data_chunk_of_interest = np.zeros((row_of_interest[recording],n_cols), dtype=np.float16)\n",
    "\n",
    "  for section in range(n_sections):\n",
    "    time_start += seconds\n",
    "    time_end = time_start + seconds\n",
    "    endpoint = counter + row_of_interest[recording]\n",
    "    current_data_chunk[:,:] = get_chunk(memory_maps[recording], time_start, time_end, n_channels, sampling_rate)\n",
    "    data_chunk_of_interest[:,:] = current_data_chunk[sites_of_interest_all[recording],:]\n",
    "    normalized_chunk = normalize_chunk(data_chunk_of_interest)\n",
    "    normalized_chunk_f16 = normalized_chunk.astype(dtype=np.float16)\n",
    "    input_dataset_lfp[counter:endpoint, 0:n_cols] = normalized_chunk_f16\n",
    "    label_dataset_lfp[counter:endpoint, 0:len(regions_list)] = all_site_labels[recording][sites_of_interest_all[recording]][:]\n",
    "    counter += n_channels_of_interest\n",
    "    print(\"Loaded section \" + str(section))\n",
    "print(str(counter) + \" datapoints loaded\")\n",
    "print(input_dataset_lfp.size)"
   ]
  },
  {
   "cell_type": "code",
   "execution_count": 0,
   "metadata": {
    "colab": {
     "base_uri": "https://localhost:8080/",
     "height": 51
    },
    "colab_type": "code",
    "id": "rT20li_GCOAI",
    "outputId": "215d3b96-4470-4437-dad2-26428f3dbc5b"
   },
   "outputs": [
    {
     "name": "stdout",
     "output_type": "stream",
     "text": [
      "1.0\n",
      "1.0\n"
     ]
    }
   ],
   "source": [
    "most_labels_in_a_row = np.max(np.sum(label_dataset_lfp, axis=1))\n",
    "least_labels_in_a_row = np.min(np.sum(label_dataset_lfp, axis=1))\n",
    "print(most_labels_in_a_row)\n",
    "print(least_labels_in_a_row)"
   ]
  },
  {
   "cell_type": "code",
   "execution_count": 0,
   "metadata": {
    "colab": {},
    "colab_type": "code",
    "id": "LALETfjeEfHd"
   },
   "outputs": [],
   "source": [
    "np.save('/content/drive/My Drive/CSCI_5391/data_compilations/first_5m_of_data_lfp_above_in_2recordings.npy', input_dataset_lfp)\n",
    "np.save('/content/drive/My Drive/CSCI_5391/data_compilations/first_5m_of_data_labels_lfp_above_in_2recordings.npy', label_dataset_lfp)"
   ]
  },
  {
   "cell_type": "code",
   "execution_count": 0,
   "metadata": {
    "colab": {},
    "colab_type": "code",
    "id": "1fEwTIl6DClh"
   },
   "outputs": [],
   "source": [
    "input_dataset_lfp, label_dataset_lfp = shuffle(input_dataset_lfp, label_dataset_lfp)\n",
    "\n",
    "model_data_in, input_val_lfp, model_data_label, label_val_lfp = train_test_split(input_dataset_lfp, label_dataset_lfp, test_size=0.2)\n",
    "input_train_lfp, input_test_lfp, label_train_lfp, label_test_lfp = train_test_split(model_data_in, model_data_label, test_size=0.25)\n",
    "\n",
    "np.save('/content/drive/My Drive/CSCI_5391/data_compilations/first_5m_train_input_3s_lfp_above_in_2recordings.npy', input_train_lfp)\n",
    "np.save('/content/drive/My Drive/CSCI_5391/data_compilations/first_5m_train_labels_3s_lfp_above_in_2recordings.npy', label_train_lfp)\n",
    "np.save('/content/drive/My Drive/CSCI_5391/data_compilations/first_5m_test_input_3s_lfp_above_in_2recordings.npy', input_test_lfp)\n",
    "np.save('/content/drive/My Drive/CSCI_5391/data_compilations/first_5m_test_labels_3s_lfp_above_in_2recordings.npy', label_test_lfp)\n",
    "np.save('/content/drive/My Drive/CSCI_5391/data_compilations/first_5m_val_input_3s_lfp_above_in_2recordings.npy', input_val_lfp)\n",
    "np.save('/content/drive/My Drive/CSCI_5391/data_compilations/first_5m_val_labels_3s_lfp_above_in_2recordings.npy', label_val_lfp)"
   ]
  },
  {
   "cell_type": "code",
   "execution_count": 0,
   "metadata": {
    "colab": {
     "base_uri": "https://localhost:8080/",
     "height": 68
    },
    "colab_type": "code",
    "id": "STazvFo3M8gT",
    "outputId": "e9b2ce0d-af91-4530-ed82-8268f18f6384"
   },
   "outputs": [
    {
     "name": "stdout",
     "output_type": "stream",
     "text": [
      "2348.0\n",
      "823.0\n",
      "828.0\n"
     ]
    }
   ],
   "source": [
    "above_brain_train = np.sum(label_train_lfp[:,0])\n",
    "above_brain_test = np.sum(label_test_lfp[:,0])\n",
    "above_brain_val = np.sum(label_val_lfp[:,0])\n",
    "\n",
    "print(above_brain_train)\n",
    "print(above_brain_test)\n",
    "print(above_brain_val)"
   ]
  },
  {
   "cell_type": "code",
   "execution_count": 0,
   "metadata": {
    "colab": {},
    "colab_type": "code",
    "id": "1Mr1yd_gFDwe"
   },
   "outputs": [],
   "source": []
  }
 ],
 "metadata": {
  "accelerator": "TPU",
  "colab": {
   "collapsed_sections": [],
   "machine_shape": "hm",
   "name": "Fetch and Save Input Data Subset v3",
   "provenance": []
  },
  "kernelspec": {
   "display_name": "Python 3",
   "language": "python",
   "name": "python3"
  },
  "language_info": {
   "codemirror_mode": {
    "name": "ipython",
    "version": 3
   },
   "file_extension": ".py",
   "mimetype": "text/x-python",
   "name": "python",
   "nbconvert_exporter": "python",
   "pygments_lexer": "ipython3",
   "version": "3.7.4"
  }
 },
 "nbformat": 4,
 "nbformat_minor": 1
}
